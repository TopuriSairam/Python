{
 "cells": [
  {
   "cell_type": "markdown",
   "id": "8d395497",
   "metadata": {},
   "source": [
    "# View Vs Copy in Numpy"
   ]
  },
  {
   "cell_type": "markdown",
   "id": "ff04d963",
   "metadata": {},
   "source": [
    "Note \n",
    "\n",
    "1.Changes made to view will affect to the original array , whereas changes made to copy will not affect original array. \n",
    "\n",
    "2.view is just view of original array & copy is like creating a new array."
   ]
  },
  {
   "cell_type": "code",
   "execution_count": 1,
   "id": "0d4b1652",
   "metadata": {},
   "outputs": [],
   "source": [
    "#importing numpy package\n",
    "import numpy as np"
   ]
  },
  {
   "cell_type": "code",
   "execution_count": null,
   "id": "8c418a9e",
   "metadata": {},
   "outputs": [],
   "source": []
  },
  {
   "cell_type": "markdown",
   "id": "5030e65f",
   "metadata": {},
   "source": [
    "## Let's understand functionality of view ()"
   ]
  },
  {
   "cell_type": "markdown",
   "id": "f0e5d71a",
   "metadata": {},
   "source": [
    "Note: View doesn't owns the data."
   ]
  },
  {
   "cell_type": "code",
   "execution_count": 2,
   "id": "1a21e1e6",
   "metadata": {},
   "outputs": [
    {
     "name": "stdout",
     "output_type": "stream",
     "text": [
      "[10 20 30 40]\n"
     ]
    }
   ],
   "source": [
    "arr1 = np.array([10,20,30,40])\n",
    "print (arr1)"
   ]
  },
  {
   "cell_type": "code",
   "execution_count": 4,
   "id": "5922673c",
   "metadata": {},
   "outputs": [],
   "source": [
    "arr2 = arr1.view()\n",
    "arr2[1] = 100"
   ]
  },
  {
   "cell_type": "code",
   "execution_count": 5,
   "id": "8ba2be49",
   "metadata": {},
   "outputs": [
    {
     "name": "stdout",
     "output_type": "stream",
     "text": [
      "[ 10 100  30  40]\n"
     ]
    }
   ],
   "source": [
    "print (arr2)"
   ]
  },
  {
   "cell_type": "code",
   "execution_count": 6,
   "id": "f56ca7f4",
   "metadata": {},
   "outputs": [
    {
     "name": "stdout",
     "output_type": "stream",
     "text": [
      "[ 10 100  30  40]\n"
     ]
    }
   ],
   "source": [
    "print (arr1)"
   ]
  },
  {
   "cell_type": "code",
   "execution_count": null,
   "id": "c4c45d2a",
   "metadata": {},
   "outputs": [],
   "source": []
  },
  {
   "cell_type": "markdown",
   "id": "2cb9835b",
   "metadata": {},
   "source": [
    "## Let's understand the functionality of copy() "
   ]
  },
  {
   "cell_type": "code",
   "execution_count": 7,
   "id": "85cd5410",
   "metadata": {},
   "outputs": [
    {
     "name": "stdout",
     "output_type": "stream",
     "text": [
      "[10 20 30 40]\n"
     ]
    }
   ],
   "source": [
    "arr1 = np.array([10,20,30,40])\n",
    "print (arr1)"
   ]
  },
  {
   "cell_type": "code",
   "execution_count": 8,
   "id": "cac92c69",
   "metadata": {},
   "outputs": [],
   "source": [
    "arr2 = arr1.copy()\n",
    "arr2[1] = 100"
   ]
  },
  {
   "cell_type": "code",
   "execution_count": 9,
   "id": "6f07adc4",
   "metadata": {},
   "outputs": [
    {
     "name": "stdout",
     "output_type": "stream",
     "text": [
      "[ 10 100  30  40]\n"
     ]
    }
   ],
   "source": [
    "print (arr2)"
   ]
  },
  {
   "cell_type": "code",
   "execution_count": 10,
   "id": "371d2086",
   "metadata": {},
   "outputs": [
    {
     "name": "stdout",
     "output_type": "stream",
     "text": [
      "[10 20 30 40]\n"
     ]
    }
   ],
   "source": [
    "print (arr1)"
   ]
  },
  {
   "cell_type": "code",
   "execution_count": null,
   "id": "d42446b4",
   "metadata": {},
   "outputs": [],
   "source": []
  },
  {
   "cell_type": "markdown",
   "id": "fbc90bf0",
   "metadata": {},
   "source": [
    "# Hstack vs Vstack"
   ]
  },
  {
   "cell_type": "code",
   "execution_count": null,
   "id": "546ccf4c",
   "metadata": {},
   "outputs": [],
   "source": []
  },
  {
   "cell_type": "markdown",
   "id": "9d37ecc1",
   "metadata": {},
   "source": [
    "Note:\n",
    "\n",
    "1.Hstack is used to join two arrays Horizontally.\n",
    "\n",
    "2.Vstack is used to join two arrays Vertically."
   ]
  },
  {
   "cell_type": "code",
   "execution_count": 11,
   "id": "7dd26f20",
   "metadata": {},
   "outputs": [],
   "source": [
    "#importing numpy package\n",
    "import numpy as np"
   ]
  },
  {
   "cell_type": "markdown",
   "id": "34f61f41",
   "metadata": {},
   "source": [
    "## Performing Hstack "
   ]
  },
  {
   "cell_type": "code",
   "execution_count": 14,
   "id": "4fb3957b",
   "metadata": {},
   "outputs": [
    {
     "name": "stdout",
     "output_type": "stream",
     "text": [
      "a:[1 2 3]\n",
      "Dimension of a:  1\n",
      "b:[4 5 6]\n",
      "Dimension of b:  1\n"
     ]
    }
   ],
   "source": [
    "a = np.array([1,2,3])\n",
    "b = np.array([4,5,6])\n",
    "\n",
    "print(\"a:{}\" .format(a))\n",
    "print(\"Dimension of a: \", a.ndim)\n",
    "\n",
    "print(\"b:{}\" .format(b))\n",
    "print(\"Dimension of b: \", b.ndim)"
   ]
  },
  {
   "cell_type": "code",
   "execution_count": 17,
   "id": "6de9a9ca",
   "metadata": {},
   "outputs": [
    {
     "name": "stdout",
     "output_type": "stream",
     "text": [
      "c:[1 2 3 4 5 6]\n",
      "Dimension of c:  1\n"
     ]
    }
   ],
   "source": [
    "c = np.hstack((a,b))\n",
    "print(\"c:{}\" .format(c))\n",
    "print(\"Dimension of c: \", c.ndim)"
   ]
  },
  {
   "cell_type": "code",
   "execution_count": null,
   "id": "368bed81",
   "metadata": {},
   "outputs": [],
   "source": []
  },
  {
   "cell_type": "markdown",
   "id": "09be8382",
   "metadata": {},
   "source": [
    "## Performing Vstack "
   ]
  },
  {
   "cell_type": "code",
   "execution_count": 18,
   "id": "d738e448",
   "metadata": {},
   "outputs": [
    {
     "name": "stdout",
     "output_type": "stream",
     "text": [
      "a:[1 2 3]\n",
      "Dimension of a:  1\n",
      "b:[4 5 6]\n",
      "Dimension of b:  1\n"
     ]
    }
   ],
   "source": [
    "a = np.array([1,2,3])\n",
    "b = np.array([4,5,6])\n",
    "\n",
    "print(\"a:{}\" .format(a))\n",
    "print(\"Dimension of a: \", a.ndim)\n",
    "\n",
    "print(\"b:{}\" .format(b))\n",
    "print(\"Dimension of b: \", b.ndim)"
   ]
  },
  {
   "cell_type": "code",
   "execution_count": 19,
   "id": "f04d91c0",
   "metadata": {},
   "outputs": [
    {
     "name": "stdout",
     "output_type": "stream",
     "text": [
      "c:[[1 2 3]\n",
      " [4 5 6]]\n",
      "Dimension of c:  2\n"
     ]
    }
   ],
   "source": [
    "c = np.vstack((a,b))\n",
    "print(\"c:{}\" .format(c))\n",
    "print(\"Dimension of c: \", c.ndim)"
   ]
  },
  {
   "cell_type": "code",
   "execution_count": null,
   "id": "72d84e8f",
   "metadata": {},
   "outputs": [],
   "source": []
  },
  {
   "cell_type": "markdown",
   "id": "76d46f8f",
   "metadata": {},
   "source": [
    "# Numpy Concatenation"
   ]
  },
  {
   "cell_type": "code",
   "execution_count": 20,
   "id": "0f1aaf54",
   "metadata": {},
   "outputs": [],
   "source": [
    "#importing numpy package\n",
    "import numpy as np"
   ]
  },
  {
   "cell_type": "code",
   "execution_count": 22,
   "id": "33f47f68",
   "metadata": {},
   "outputs": [
    {
     "name": "stdout",
     "output_type": "stream",
     "text": [
      "[[1 2]\n",
      " [3 4]]\n",
      "(2, 2)\n"
     ]
    }
   ],
   "source": [
    "#Array A\n",
    "a = [[1,2],[3,4]]\n",
    "A = np.array(a)\n",
    "print(A)\n",
    "print(A.shape)"
   ]
  },
  {
   "cell_type": "code",
   "execution_count": 23,
   "id": "89fd0636",
   "metadata": {},
   "outputs": [
    {
     "name": "stdout",
     "output_type": "stream",
     "text": [
      "[[7]\n",
      " [8]]\n",
      "(2, 1)\n"
     ]
    }
   ],
   "source": [
    "#Array B\n",
    "\n",
    "b = [[7],[8]]\n",
    "B = np.array(b)\n",
    "print(B)\n",
    "print(B.shape)"
   ]
  },
  {
   "cell_type": "code",
   "execution_count": 24,
   "id": "af58113b",
   "metadata": {},
   "outputs": [
    {
     "name": "stdout",
     "output_type": "stream",
     "text": [
      "[[ 9 10]]\n",
      "(1, 2)\n"
     ]
    }
   ],
   "source": [
    "#Array C\n",
    "\n",
    "c = [[9,10]]\n",
    "C = np.array(c)\n",
    "print(C)\n",
    "print(C.shape)"
   ]
  },
  {
   "cell_type": "code",
   "execution_count": null,
   "id": "498a9fa1",
   "metadata": {},
   "outputs": [],
   "source": []
  },
  {
   "cell_type": "markdown",
   "id": "2e0d6a59",
   "metadata": {},
   "source": [
    "Note:\n",
    "\n",
    "1.When axis = 0 , Both concatenate arrays should have same number of columns [like adding a new row]\n",
    "\n",
    "2.When axis = 1 , Both concatenate arrays should have same number of rows [like adding a new column]"
   ]
  },
  {
   "cell_type": "code",
   "execution_count": null,
   "id": "275c831c",
   "metadata": {},
   "outputs": [],
   "source": []
  },
  {
   "cell_type": "markdown",
   "id": "6ad2b119",
   "metadata": {},
   "source": [
    "### Let's concatenate A & C"
   ]
  },
  {
   "cell_type": "code",
   "execution_count": 25,
   "id": "35d72a5d",
   "metadata": {},
   "outputs": [
    {
     "name": "stdout",
     "output_type": "stream",
     "text": [
      "(2, 2)\n"
     ]
    }
   ],
   "source": [
    "print(A.shape)"
   ]
  },
  {
   "cell_type": "code",
   "execution_count": 26,
   "id": "9123113d",
   "metadata": {},
   "outputs": [
    {
     "name": "stdout",
     "output_type": "stream",
     "text": [
      "(1, 2)\n"
     ]
    }
   ],
   "source": [
    "print(C.shape)"
   ]
  },
  {
   "cell_type": "code",
   "execution_count": 27,
   "id": "305976f2",
   "metadata": {},
   "outputs": [
    {
     "name": "stdout",
     "output_type": "stream",
     "text": [
      "[[ 1  2]\n",
      " [ 3  4]\n",
      " [ 9 10]]\n",
      "(3, 2)\n"
     ]
    }
   ],
   "source": [
    "#here we have same no.of columns\n",
    "D = np.concatenate((A,C), axis=0)\n",
    "print(D)\n",
    "print(D.shape)"
   ]
  },
  {
   "cell_type": "code",
   "execution_count": null,
   "id": "bec1677e",
   "metadata": {},
   "outputs": [],
   "source": []
  },
  {
   "cell_type": "markdown",
   "id": "32f49f65",
   "metadata": {},
   "source": [
    "### Let's concatenate A & B"
   ]
  },
  {
   "cell_type": "code",
   "execution_count": 28,
   "id": "0191d1d6",
   "metadata": {},
   "outputs": [
    {
     "name": "stdout",
     "output_type": "stream",
     "text": [
      "(2, 2)\n"
     ]
    }
   ],
   "source": [
    "print(A.shape)"
   ]
  },
  {
   "cell_type": "code",
   "execution_count": 29,
   "id": "a25b0332",
   "metadata": {},
   "outputs": [
    {
     "name": "stdout",
     "output_type": "stream",
     "text": [
      "(2, 1)\n"
     ]
    }
   ],
   "source": [
    "print(B.shape)"
   ]
  },
  {
   "cell_type": "code",
   "execution_count": 30,
   "id": "644d2426",
   "metadata": {},
   "outputs": [
    {
     "name": "stdout",
     "output_type": "stream",
     "text": [
      "[[1 2 7]\n",
      " [3 4 8]]\n",
      "(2, 3)\n"
     ]
    }
   ],
   "source": [
    "#here we have same no.of rows\n",
    "E= np.concatenate((A,B), axis=1)\n",
    "print(E)\n",
    "print(E.shape)"
   ]
  },
  {
   "cell_type": "code",
   "execution_count": null,
   "id": "f6e3f2dd",
   "metadata": {},
   "outputs": [],
   "source": []
  },
  {
   "cell_type": "markdown",
   "id": "76465be5",
   "metadata": {},
   "source": [
    "# Insert, Append & Delete Numpy Array"
   ]
  },
  {
   "cell_type": "code",
   "execution_count": 31,
   "id": "a50ea0d9",
   "metadata": {},
   "outputs": [],
   "source": [
    "#importing numpy package\n",
    "import numpy as np"
   ]
  },
  {
   "cell_type": "markdown",
   "id": "95b224a8",
   "metadata": {},
   "source": [
    "### Appending"
   ]
  },
  {
   "cell_type": "code",
   "execution_count": 33,
   "id": "da768115",
   "metadata": {},
   "outputs": [
    {
     "name": "stdout",
     "output_type": "stream",
     "text": [
      "[1 2 3 4]\n"
     ]
    }
   ],
   "source": [
    "a = [1,2,3,4]\n",
    "A = np.array(a)\n",
    "print(A)"
   ]
  },
  {
   "cell_type": "markdown",
   "id": "7e665b0a",
   "metadata": {},
   "source": [
    "Let's append 45 to array "
   ]
  },
  {
   "cell_type": "code",
   "execution_count": 34,
   "id": "141cad22",
   "metadata": {},
   "outputs": [
    {
     "data": {
      "text/plain": [
       "array([ 1,  2,  3,  4, 45])"
      ]
     },
     "execution_count": 34,
     "metadata": {},
     "output_type": "execute_result"
    }
   ],
   "source": [
    "np.append(A,45)"
   ]
  },
  {
   "cell_type": "markdown",
   "id": "ffa36284",
   "metadata": {},
   "source": [
    "Let's append multiple values to array"
   ]
  },
  {
   "cell_type": "code",
   "execution_count": 35,
   "id": "a207e30f",
   "metadata": {},
   "outputs": [
    {
     "data": {
      "text/plain": [
       "array([  1,   2,   3,   4, 100, 150,  80])"
      ]
     },
     "execution_count": 35,
     "metadata": {},
     "output_type": "execute_result"
    }
   ],
   "source": [
    "#while appending multiple values make sure that you pass through lists only\n",
    "np.append(A,[100,150,80])"
   ]
  },
  {
   "cell_type": "markdown",
   "id": "75ceb66c",
   "metadata": {},
   "source": [
    "Note: np.append() doesn't update original array , if you want the changes include make sure you create a new varaible."
   ]
  },
  {
   "cell_type": "code",
   "execution_count": 36,
   "id": "8e7f460d",
   "metadata": {},
   "outputs": [
    {
     "name": "stdout",
     "output_type": "stream",
     "text": [
      "[1 2 3 4]\n"
     ]
    }
   ],
   "source": [
    "print(A)"
   ]
  },
  {
   "cell_type": "code",
   "execution_count": 37,
   "id": "7ee92b02",
   "metadata": {},
   "outputs": [
    {
     "name": "stdout",
     "output_type": "stream",
     "text": [
      "[ 1  2  3  4 45]\n"
     ]
    }
   ],
   "source": [
    "B = np.append(A, 45)\n",
    "print(B)"
   ]
  },
  {
   "cell_type": "code",
   "execution_count": 39,
   "id": "27bb1521",
   "metadata": {},
   "outputs": [
    {
     "name": "stdout",
     "output_type": "stream",
     "text": [
      "[  1   2   3   4  45 100 150  80 100 150  80]\n"
     ]
    }
   ],
   "source": [
    "B = np.append(B,[100,150,80])\n",
    "print(B)           #here changes are permanently done."
   ]
  },
  {
   "cell_type": "code",
   "execution_count": null,
   "id": "2cc22fc5",
   "metadata": {},
   "outputs": [],
   "source": []
  },
  {
   "cell_type": "markdown",
   "id": "d30d24e6",
   "metadata": {},
   "source": [
    "### Insertion in 2D Array "
   ]
  },
  {
   "cell_type": "code",
   "execution_count": 40,
   "id": "fed2c185",
   "metadata": {},
   "outputs": [
    {
     "name": "stdout",
     "output_type": "stream",
     "text": [
      "[[1 2 3]\n",
      " [4 5 6]\n",
      " [7 8 9]]\n"
     ]
    }
   ],
   "source": [
    "b = [[1,2,3],[4,5,6],[7,8,9]]\n",
    "arr2 = np.array(b)\n",
    "print(arr2)"
   ]
  },
  {
   "cell_type": "markdown",
   "id": "714d1c4a",
   "metadata": {},
   "source": [
    "Adding new row to matrix\n",
    "\n",
    ".Need to mention axis = 0 for appending to the rows"
   ]
  },
  {
   "cell_type": "code",
   "execution_count": 41,
   "id": "4fb31a86",
   "metadata": {},
   "outputs": [
    {
     "name": "stdout",
     "output_type": "stream",
     "text": [
      "[[ 1  2  3]\n",
      " [ 4  5  6]\n",
      " [ 7  8  9]\n",
      " [10 11 12]]\n"
     ]
    }
   ],
   "source": [
    "arr3 = np.append(arr2,[[10,11,12]], axis=0)\n",
    "print(arr3)"
   ]
  },
  {
   "cell_type": "code",
   "execution_count": null,
   "id": "486840db",
   "metadata": {},
   "outputs": [],
   "source": []
  },
  {
   "cell_type": "markdown",
   "id": "66c584bc",
   "metadata": {},
   "source": [
    "Adding new column to matrix\n",
    "\n",
    ".Need to mention axis = 1 for appending to the column values."
   ]
  },
  {
   "cell_type": "code",
   "execution_count": 42,
   "id": "c46113f7",
   "metadata": {},
   "outputs": [
    {
     "name": "stdout",
     "output_type": "stream",
     "text": [
      "[[ 1  2  3 10]\n",
      " [ 4  5  6 11]\n",
      " [ 7  8  9 12]]\n"
     ]
    }
   ],
   "source": [
    "arr4 = np.append(arr2,[[10],[11],[12]], axis=1)\n",
    "print(arr4)"
   ]
  },
  {
   "cell_type": "code",
   "execution_count": null,
   "id": "1b21b151",
   "metadata": {},
   "outputs": [],
   "source": []
  },
  {
   "cell_type": "markdown",
   "id": "03da8869",
   "metadata": {},
   "source": [
    "# Inserting elements into Array"
   ]
  },
  {
   "cell_type": "markdown",
   "id": "62ceb190",
   "metadata": {},
   "source": [
    "One- dimensional "
   ]
  },
  {
   "cell_type": "markdown",
   "id": "6d74353f",
   "metadata": {},
   "source": [
    "General format : (Array,index,value)"
   ]
  },
  {
   "cell_type": "code",
   "execution_count": 43,
   "id": "a8cdff48",
   "metadata": {},
   "outputs": [
    {
     "name": "stdout",
     "output_type": "stream",
     "text": [
      "[1 2 3 4]\n"
     ]
    }
   ],
   "source": [
    "A = np.array([1,2,3,4])\n",
    "print(A)"
   ]
  },
  {
   "cell_type": "code",
   "execution_count": 50,
   "id": "d6a2621c",
   "metadata": {},
   "outputs": [
    {
     "data": {
      "text/plain": [
       "array([   1, -100,    2,    3,    4])"
      ]
     },
     "execution_count": 50,
     "metadata": {},
     "output_type": "execute_result"
    }
   ],
   "source": [
    "#insering -100 at first position of numpy array\n",
    "np.insert(A,1,-100)"
   ]
  },
  {
   "cell_type": "markdown",
   "id": "65f22523",
   "metadata": {},
   "source": [
    "Two - dimensional "
   ]
  },
  {
   "cell_type": "markdown",
   "id": "e04a3a2f",
   "metadata": {},
   "source": [
    "General format : (Array,index_to_add,values,axis)"
   ]
  },
  {
   "cell_type": "code",
   "execution_count": 46,
   "id": "d24179c4",
   "metadata": {},
   "outputs": [
    {
     "name": "stdout",
     "output_type": "stream",
     "text": [
      "[[1 2 3]\n",
      " [4 5 6]\n",
      " [7 8 9]]\n"
     ]
    }
   ],
   "source": [
    "b = [[1,2,3],[4,5,6],[7,8,9]]\n",
    "B= np.array(b)\n",
    "print(B)"
   ]
  },
  {
   "cell_type": "markdown",
   "id": "c3243b60",
   "metadata": {},
   "source": [
    "Inserting new row at first position of numpy matrix"
   ]
  },
  {
   "cell_type": "code",
   "execution_count": 47,
   "id": "071d8a88",
   "metadata": {},
   "outputs": [
    {
     "data": {
      "text/plain": [
       "array([[  1,   2,   3],\n",
       "       [120,  40,  25],\n",
       "       [  4,   5,   6],\n",
       "       [  7,   8,   9]])"
      ]
     },
     "execution_count": 47,
     "metadata": {},
     "output_type": "execute_result"
    }
   ],
   "source": [
    "np.insert(B,1,[120,40,25],axis=0)"
   ]
  },
  {
   "cell_type": "code",
   "execution_count": null,
   "id": "94822b48",
   "metadata": {},
   "outputs": [],
   "source": []
  },
  {
   "cell_type": "markdown",
   "id": "c9a15882",
   "metadata": {},
   "source": [
    "# Deletion"
   ]
  },
  {
   "cell_type": "markdown",
   "id": "b1525750",
   "metadata": {},
   "source": [
    "One- dimensional Array"
   ]
  },
  {
   "cell_type": "markdown",
   "id": "835a728d",
   "metadata": {},
   "source": [
    "General format : (Array,index_to_delete)"
   ]
  },
  {
   "cell_type": "code",
   "execution_count": 48,
   "id": "4c6acad4",
   "metadata": {},
   "outputs": [
    {
     "name": "stdout",
     "output_type": "stream",
     "text": [
      "[1 2 3 4]\n"
     ]
    }
   ],
   "source": [
    "A = np.array([1,2,3,4])\n",
    "print(A)"
   ]
  },
  {
   "cell_type": "code",
   "execution_count": 49,
   "id": "c08804c4",
   "metadata": {},
   "outputs": [
    {
     "data": {
      "text/plain": [
       "array([1, 2, 4])"
      ]
     },
     "execution_count": 49,
     "metadata": {},
     "output_type": "execute_result"
    }
   ],
   "source": [
    "#let's delete the element which is present at 2nd index\n",
    "np.delete(A,2)"
   ]
  },
  {
   "cell_type": "markdown",
   "id": "e4c337e7",
   "metadata": {},
   "source": [
    "Two - dimensional Array"
   ]
  },
  {
   "cell_type": "markdown",
   "id": "f5d7bec1",
   "metadata": {},
   "source": [
    "General format : (Array,which_row_column_delete,axis)\n",
    "\n",
    "axis=0 for rows\n",
    "\n",
    "axis=1 for columns"
   ]
  },
  {
   "cell_type": "code",
   "execution_count": 51,
   "id": "e02f3916",
   "metadata": {},
   "outputs": [
    {
     "name": "stdout",
     "output_type": "stream",
     "text": [
      "[[1 2 3]\n",
      " [4 5 6]\n",
      " [7 8 9]]\n"
     ]
    }
   ],
   "source": [
    "b = [[1,2,3],[4,5,6],[7,8,9]]\n",
    "B= np.array(b)\n",
    "print(B)"
   ]
  },
  {
   "cell_type": "code",
   "execution_count": 54,
   "id": "dab51004",
   "metadata": {},
   "outputs": [
    {
     "data": {
      "text/plain": [
       "array([[1, 2, 3],\n",
       "       [7, 8, 9]])"
      ]
     },
     "execution_count": 54,
     "metadata": {},
     "output_type": "execute_result"
    }
   ],
   "source": [
    "#let's delete 2nd row in matrix B\n",
    "np.delete(B,1,axis=0)"
   ]
  },
  {
   "cell_type": "code",
   "execution_count": 55,
   "id": "6bc7bead",
   "metadata": {},
   "outputs": [
    {
     "data": {
      "text/plain": [
       "array([[1, 3],\n",
       "       [4, 6],\n",
       "       [7, 9]])"
      ]
     },
     "execution_count": 55,
     "metadata": {},
     "output_type": "execute_result"
    }
   ],
   "source": [
    "#let's delete 2nd column in matrix B\n",
    "np.delete(B,1,axis=1)"
   ]
  },
  {
   "cell_type": "code",
   "execution_count": null,
   "id": "f504dea9",
   "metadata": {},
   "outputs": [],
   "source": []
  },
  {
   "cell_type": "markdown",
   "id": "1c42cd2a",
   "metadata": {},
   "source": [
    "# Searching Arrays"
   ]
  },
  {
   "cell_type": "markdown",
   "id": "9e9b809a",
   "metadata": {},
   "source": [
    "## np.where()"
   ]
  },
  {
   "cell_type": "code",
   "execution_count": 56,
   "id": "dbc21703",
   "metadata": {},
   "outputs": [],
   "source": [
    "#importing numpy package\n",
    "import numpy as np"
   ]
  },
  {
   "cell_type": "code",
   "execution_count": null,
   "id": "8a990e1d",
   "metadata": {},
   "outputs": [],
   "source": []
  },
  {
   "cell_type": "markdown",
   "id": "0b69a45d",
   "metadata": {},
   "source": [
    "General Format:\n",
    "\n",
    "np.where(condition,array,replcement)\n",
    "\n",
    "1.condition we wnat to check\n",
    "\n",
    "2.put the values in the arrays as it is, if cindition is met.\n",
    "\n",
    "3.replacement happens when condition fails"
   ]
  },
  {
   "cell_type": "code",
   "execution_count": 57,
   "id": "306becee",
   "metadata": {},
   "outputs": [
    {
     "name": "stdout",
     "output_type": "stream",
     "text": [
      "[0 1 2 3 4 5 6 7 8 9]\n"
     ]
    }
   ],
   "source": [
    "a = [0,1,2,3,4,5,6,7,8,9]\n",
    "A = np.array(a)\n",
    "print(A)"
   ]
  },
  {
   "cell_type": "markdown",
   "id": "11fc9940",
   "metadata": {},
   "source": [
    ".Replace all odd numbers with -1 "
   ]
  },
  {
   "cell_type": "code",
   "execution_count": 62,
   "id": "ee2bf3bf",
   "metadata": {},
   "outputs": [],
   "source": [
    "new_A = np.where(A%2==0 ,A ,-1)"
   ]
  },
  {
   "cell_type": "code",
   "execution_count": 59,
   "id": "60e73cc1",
   "metadata": {},
   "outputs": [
    {
     "name": "stdout",
     "output_type": "stream",
     "text": [
      "[ 0 -1  2 -1  4 -1  6 -1  8 -1]\n"
     ]
    }
   ],
   "source": [
    "print(new_A)"
   ]
  },
  {
   "cell_type": "code",
   "execution_count": null,
   "id": "27d25423",
   "metadata": {},
   "outputs": [],
   "source": []
  },
  {
   "cell_type": "markdown",
   "id": "8b09d9ff",
   "metadata": {},
   "source": [
    "### Task 2"
   ]
  },
  {
   "cell_type": "code",
   "execution_count": 61,
   "id": "711f0ee5",
   "metadata": {},
   "outputs": [
    {
     "name": "stdout",
     "output_type": "stream",
     "text": [
      "[ -1   7   3  -2  12  14 100  -3]\n"
     ]
    }
   ],
   "source": [
    "b = [-1,7,3,-2,12,14,100,-3]\n",
    "B = np.array(b)\n",
    "print(B)"
   ]
  },
  {
   "cell_type": "markdown",
   "id": "0b562d35",
   "metadata": {},
   "source": [
    "Let's replace all values less than 0 with 45"
   ]
  },
  {
   "cell_type": "code",
   "execution_count": 63,
   "id": "ebbeaa6b",
   "metadata": {},
   "outputs": [
    {
     "name": "stdout",
     "output_type": "stream",
     "text": [
      "[ 45   7   3  45  12  14 100  45]\n"
     ]
    }
   ],
   "source": [
    "new_B = np.where(B>0 ,B ,45)\n",
    "print(new_B)"
   ]
  },
  {
   "cell_type": "code",
   "execution_count": null,
   "id": "f048a84a",
   "metadata": {},
   "outputs": [],
   "source": []
  }
 ],
 "metadata": {
  "kernelspec": {
   "display_name": "Python 3",
   "language": "python",
   "name": "python3"
  },
  "language_info": {
   "codemirror_mode": {
    "name": "ipython",
    "version": 3
   },
   "file_extension": ".py",
   "mimetype": "text/x-python",
   "name": "python",
   "nbconvert_exporter": "python",
   "pygments_lexer": "ipython3",
   "version": "3.8.8"
  }
 },
 "nbformat": 4,
 "nbformat_minor": 5
}
