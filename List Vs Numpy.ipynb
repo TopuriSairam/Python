{
 "cells": [
  {
   "cell_type": "markdown",
   "id": "bd16602e",
   "metadata": {},
   "source": [
    "# Similarities between List and Numpy Array's"
   ]
  },
  {
   "cell_type": "raw",
   "id": "28256c48",
   "metadata": {},
   "source": [
    "\n",
    "1.Both are used to store data.\n",
    "2.Both are Mutable.\n",
    "3.Both are indexed(i.e we can access elements) and can iterate all the elements present in it.\n",
    "4.Can perform slicing operations upon them. (i.e we can get the subset offrom elements  whole data)"
   ]
  },
  {
   "cell_type": "raw",
   "id": "86757e93",
   "metadata": {},
   "source": []
  },
  {
   "cell_type": "markdown",
   "id": "8a0b4d06",
   "metadata": {},
   "source": [
    "# Differences between List and Numpy Array's \n"
   ]
  },
  {
   "cell_type": "markdown",
   "id": "3d7c8498",
   "metadata": {},
   "source": [
    "### 1.List contain element of different data types whereas Arrays contains elemments of similar data type."
   ]
  },
  {
   "cell_type": "code",
   "execution_count": 2,
   "id": "9e10312d",
   "metadata": {},
   "outputs": [
    {
     "name": "stdout",
     "output_type": "stream",
     "text": [
      "[1, 'Sai', 4.0]\n"
     ]
    }
   ],
   "source": [
    "List = [1,'Sai',4.0]\n",
    "print(List)"
   ]
  },
  {
   "cell_type": "code",
   "execution_count": 3,
   "id": "5a28f05f",
   "metadata": {},
   "outputs": [
    {
     "name": "stdout",
     "output_type": "stream",
     "text": [
      "[1 2 3 4]\n"
     ]
    }
   ],
   "source": [
    "import numpy as np\n",
    "arr = np.array([1,2,3,4])\n",
    "print(arr)"
   ]
  },
  {
   "cell_type": "markdown",
   "id": "8f4f9ed6",
   "metadata": {},
   "source": [
    "### Type conversion takes place if stored different datatypes"
   ]
  },
  {
   "cell_type": "code",
   "execution_count": 4,
   "id": "47615c58",
   "metadata": {},
   "outputs": [
    {
     "name": "stdout",
     "output_type": "stream",
     "text": [
      "['1' 'Sai' '4.0']\n"
     ]
    }
   ],
   "source": [
    "arr1 =np.array ([1,'Sai',4.0])\n",
    "print(arr1)\n"
   ]
  },
  {
   "cell_type": "markdown",
   "id": "cbe3bdfb",
   "metadata": {},
   "source": [
    "### 2. Ways of perfoming operations"
   ]
  },
  {
   "cell_type": "markdown",
   "id": "a8edf734",
   "metadata": {},
   "source": [
    "#### .Arrays provide much flexibility  while performing mathematical operations than lists"
   ]
  },
  {
   "cell_type": "code",
   "execution_count": 7,
   "id": "a9592327",
   "metadata": {},
   "outputs": [
    {
     "name": "stdout",
     "output_type": "stream",
     "text": [
      "[ 5 20 25 40]\n"
     ]
    },
    {
     "data": {
      "text/plain": [
       "numpy.ndarray"
      ]
     },
     "execution_count": 7,
     "metadata": {},
     "output_type": "execute_result"
    }
   ],
   "source": [
    "arr = np.array([5,20,25,40])\n",
    "print(arr)\n",
    "type (arr)"
   ]
  },
  {
   "cell_type": "code",
   "execution_count": 6,
   "id": "f36a34c7",
   "metadata": {},
   "outputs": [
    {
     "data": {
      "text/plain": [
       "array([1., 4., 5., 8.])"
      ]
     },
     "execution_count": 6,
     "metadata": {},
     "output_type": "execute_result"
    }
   ],
   "source": [
    "arr / 5"
   ]
  },
  {
   "cell_type": "code",
   "execution_count": 9,
   "id": "e1c29655",
   "metadata": {},
   "outputs": [
    {
     "name": "stdout",
     "output_type": "stream",
     "text": [
      "[5, 20, 25, 40]\n"
     ]
    }
   ],
   "source": [
    "list = [5,20,25,40]\n",
    "print(list)"
   ]
  },
  {
   "cell_type": "code",
   "execution_count": 11,
   "id": "cec7bb9e",
   "metadata": {},
   "outputs": [
    {
     "ename": "TypeError",
     "evalue": "unsupported operand type(s) for /: 'list' and 'int'",
     "output_type": "error",
     "traceback": [
      "\u001b[1;31m---------------------------------------------------------------------------\u001b[0m",
      "\u001b[1;31mTypeError\u001b[0m                                 Traceback (most recent call last)",
      "\u001b[1;32m<ipython-input-11-54b1bf0c026b>\u001b[0m in \u001b[0;36m<module>\u001b[1;34m\u001b[0m\n\u001b[1;32m----> 1\u001b[1;33m \u001b[0mlist\u001b[0m \u001b[1;33m/\u001b[0m \u001b[1;36m5\u001b[0m\u001b[1;33m\u001b[0m\u001b[1;33m\u001b[0m\u001b[0m\n\u001b[0m",
      "\u001b[1;31mTypeError\u001b[0m: unsupported operand type(s) for /: 'list' and 'int'"
     ]
    }
   ],
   "source": [
    " list / 5"
   ]
  },
  {
   "cell_type": "markdown",
   "id": "496979c8",
   "metadata": {},
   "source": [
    "### 3. Installation"
   ]
  },
  {
   "cell_type": "markdown",
   "id": "fa247e30",
   "metadata": {},
   "source": [
    "#### . To use numpy arrays we need to install and import numpy library. whereas list is built in and we no need to install anything and we can directly use it."
   ]
  },
  {
   "cell_type": "code",
   "execution_count": null,
   "id": "09fceae9",
   "metadata": {},
   "outputs": [],
   "source": []
  },
  {
   "cell_type": "markdown",
   "id": "47aeb6d5",
   "metadata": {},
   "source": [
    "## Advantages of arrays over list "
   ]
  },
  {
   "cell_type": "markdown",
   "id": "8fe1af81",
   "metadata": {},
   "source": [
    "#### .Numpy arrays consumes less Memory."
   ]
  },
  {
   "cell_type": "markdown",
   "id": "aba20d91",
   "metadata": {},
   "source": [
    "#### Numpy arrays are fast than lists. "
   ]
  },
  {
   "cell_type": "code",
   "execution_count": null,
   "id": "acb91ddb",
   "metadata": {},
   "outputs": [],
   "source": []
  }
 ],
 "metadata": {
  "kernelspec": {
   "display_name": "Python 3",
   "language": "python",
   "name": "python3"
  },
  "language_info": {
   "codemirror_mode": {
    "name": "ipython",
    "version": 3
   },
   "file_extension": ".py",
   "mimetype": "text/x-python",
   "name": "python",
   "nbconvert_exporter": "python",
   "pygments_lexer": "ipython3",
   "version": "3.8.8"
  }
 },
 "nbformat": 4,
 "nbformat_minor": 5
}
