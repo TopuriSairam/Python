{
 "cells": [
  {
   "cell_type": "markdown",
   "id": "9c57d3d7",
   "metadata": {},
   "source": [
    "# Pandas Series"
   ]
  },
  {
   "cell_type": "code",
   "execution_count": null,
   "id": "4c31e6f8",
   "metadata": {},
   "outputs": [],
   "source": []
  },
  {
   "attachments": {},
   "cell_type": "markdown",
   "id": "aef73a41",
   "metadata": {},
   "source": [
    "Note:\n",
    "\n",
    "1.It is a open-source python library used for data manipulation and data analysis.\n",
    "\n",
    "2.It contain two data structures called Series and DataFrames."
   ]
  },
  {
   "cell_type": "code",
   "execution_count": null,
   "id": "91861e3a",
   "metadata": {},
   "outputs": [],
   "source": []
  },
  {
   "cell_type": "markdown",
   "id": "f57594f4",
   "metadata": {},
   "source": [
    "# Series"
   ]
  },
  {
   "cell_type": "markdown",
   "id": "1a62be41",
   "metadata": {},
   "source": [
    ".Series is a one dimensional object Array or list or column [only one column].\n"
   ]
  },
  {
   "cell_type": "code",
   "execution_count": 2,
   "id": "62c7dfc9",
   "metadata": {},
   "outputs": [],
   "source": [
    "#importing pandas library\n",
    "import pandas as pd"
   ]
  },
  {
   "cell_type": "code",
   "execution_count": null,
   "id": "5bf19a3c",
   "metadata": {},
   "outputs": [],
   "source": []
  },
  {
   "cell_type": "markdown",
   "id": "6520c57c",
   "metadata": {},
   "source": [
    "### .Creating sample series"
   ]
  },
  {
   "cell_type": "code",
   "execution_count": 3,
   "id": "fd5edb84",
   "metadata": {},
   "outputs": [],
   "source": [
    "series1 = pd.Series([1,2,3,'string',4.3,-4])"
   ]
  },
  {
   "cell_type": "code",
   "execution_count": 4,
   "id": "983277be",
   "metadata": {},
   "outputs": [
    {
     "data": {
      "text/plain": [
       "0         1\n",
       "1         2\n",
       "2         3\n",
       "3    string\n",
       "4       4.3\n",
       "5        -4\n",
       "dtype: object"
      ]
     },
     "execution_count": 4,
     "metadata": {},
     "output_type": "execute_result"
    }
   ],
   "source": [
    "series1"
   ]
  },
  {
   "cell_type": "code",
   "execution_count": 5,
   "id": "3136cefe",
   "metadata": {},
   "outputs": [
    {
     "data": {
      "text/plain": [
       "pandas.core.series.Series"
      ]
     },
     "execution_count": 5,
     "metadata": {},
     "output_type": "execute_result"
    }
   ],
   "source": [
    "type(series1)"
   ]
  },
  {
   "cell_type": "markdown",
   "id": "5483f502",
   "metadata": {},
   "source": [
    "### .Adding Custom Index"
   ]
  },
  {
   "cell_type": "code",
   "execution_count": 8,
   "id": "ab79dbef",
   "metadata": {},
   "outputs": [],
   "source": [
    "index = ['a','b','c','d','e','f']\n",
    "series2 = pd.Series([1,2,3,'string',4.3,-4],index = index)"
   ]
  },
  {
   "cell_type": "code",
   "execution_count": 9,
   "id": "a92105c6",
   "metadata": {},
   "outputs": [
    {
     "data": {
      "text/plain": [
       "a         1\n",
       "b         2\n",
       "c         3\n",
       "d    string\n",
       "e       4.3\n",
       "f        -4\n",
       "dtype: object"
      ]
     },
     "execution_count": 9,
     "metadata": {},
     "output_type": "execute_result"
    }
   ],
   "source": [
    "series2"
   ]
  },
  {
   "cell_type": "markdown",
   "id": "7206ec57",
   "metadata": {},
   "source": [
    "### Accessing elements in Series"
   ]
  },
  {
   "cell_type": "code",
   "execution_count": 10,
   "id": "968bb273",
   "metadata": {},
   "outputs": [
    {
     "data": {
      "text/plain": [
       "1"
      ]
     },
     "execution_count": 10,
     "metadata": {},
     "output_type": "execute_result"
    }
   ],
   "source": [
    "series2['a']"
   ]
  },
  {
   "cell_type": "code",
   "execution_count": 11,
   "id": "62e9cbfe",
   "metadata": {},
   "outputs": [
    {
     "data": {
      "text/plain": [
       "'string'"
      ]
     },
     "execution_count": 11,
     "metadata": {},
     "output_type": "execute_result"
    }
   ],
   "source": [
    "series2['d']"
   ]
  },
  {
   "cell_type": "code",
   "execution_count": null,
   "id": "aca76901",
   "metadata": {},
   "outputs": [],
   "source": []
  },
  {
   "cell_type": "markdown",
   "id": "d94c9703",
   "metadata": {},
   "source": [
    "### Creating Series using Dictionaries"
   ]
  },
  {
   "cell_type": "code",
   "execution_count": 12,
   "id": "b5e5aa31",
   "metadata": {},
   "outputs": [],
   "source": [
    "series3 = pd.Series({'London':20,'Tripoli':100,'Cairo':50})"
   ]
  },
  {
   "cell_type": "code",
   "execution_count": 13,
   "id": "471df501",
   "metadata": {},
   "outputs": [
    {
     "data": {
      "text/plain": [
       "London      20\n",
       "Tripoli    100\n",
       "Cairo       50\n",
       "dtype: int64"
      ]
     },
     "execution_count": 13,
     "metadata": {},
     "output_type": "execute_result"
    }
   ],
   "source": [
    "series3"
   ]
  },
  {
   "cell_type": "code",
   "execution_count": 15,
   "id": "2772fd73",
   "metadata": {},
   "outputs": [
    {
     "data": {
      "text/plain": [
       "50"
      ]
     },
     "execution_count": 15,
     "metadata": {},
     "output_type": "execute_result"
    }
   ],
   "source": [
    "series3['Cairo']"
   ]
  },
  {
   "cell_type": "code",
   "execution_count": null,
   "id": "f57d7065",
   "metadata": {},
   "outputs": [],
   "source": []
  },
  {
   "cell_type": "markdown",
   "id": "57ff1d39",
   "metadata": {},
   "source": [
    "### Performing Logical Operations"
   ]
  },
  {
   "cell_type": "code",
   "execution_count": 16,
   "id": "a891259f",
   "metadata": {},
   "outputs": [
    {
     "data": {
      "text/plain": [
       "Tripoli    100\n",
       "Cairo       50\n",
       "dtype: int64"
      ]
     },
     "execution_count": 16,
     "metadata": {},
     "output_type": "execute_result"
    }
   ],
   "source": [
    "series3[series3>25]"
   ]
  },
  {
   "cell_type": "code",
   "execution_count": null,
   "id": "c47c12f6",
   "metadata": {},
   "outputs": [],
   "source": []
  },
  {
   "cell_type": "markdown",
   "id": "cc9e3ecc",
   "metadata": {},
   "source": [
    "# Pandas Dataframes "
   ]
  },
  {
   "cell_type": "code",
   "execution_count": null,
   "id": "0de71f6a",
   "metadata": {},
   "outputs": [],
   "source": []
  },
  {
   "cell_type": "markdown",
   "id": "7b2f263d",
   "metadata": {},
   "source": [
    "Key Points\n",
    "\n",
    "1.Dataframes are used when we have multiple columns or features Whereas Series are used when we have only one column.\n",
    "    \n",
    "    "
   ]
  },
  {
   "cell_type": "code",
   "execution_count": 18,
   "id": "c9bbeb63",
   "metadata": {},
   "outputs": [],
   "source": [
    "#importing pandas library\n",
    "import pandas as pd"
   ]
  },
  {
   "cell_type": "code",
   "execution_count": null,
   "id": "5e618cee",
   "metadata": {},
   "outputs": [],
   "source": []
  },
  {
   "cell_type": "markdown",
   "id": "11912238",
   "metadata": {},
   "source": [
    "### Creating Sample Dataframe"
   ]
  },
  {
   "cell_type": "code",
   "execution_count": 21,
   "id": "97e204d2",
   "metadata": {},
   "outputs": [
    {
     "data": {
      "text/html": [
       "<div>\n",
       "<style scoped>\n",
       "    .dataframe tbody tr th:only-of-type {\n",
       "        vertical-align: middle;\n",
       "    }\n",
       "\n",
       "    .dataframe tbody tr th {\n",
       "        vertical-align: top;\n",
       "    }\n",
       "\n",
       "    .dataframe thead th {\n",
       "        text-align: right;\n",
       "    }\n",
       "</style>\n",
       "<table border=\"1\" class=\"dataframe\">\n",
       "  <thead>\n",
       "    <tr style=\"text-align: right;\">\n",
       "      <th></th>\n",
       "      <th>Names</th>\n",
       "      <th>Marks</th>\n",
       "    </tr>\n",
       "  </thead>\n",
       "  <tbody>\n",
       "    <tr>\n",
       "      <th>0</th>\n",
       "      <td>sai</td>\n",
       "      <td>45</td>\n",
       "    </tr>\n",
       "    <tr>\n",
       "      <th>1</th>\n",
       "      <td>ajay</td>\n",
       "      <td>20</td>\n",
       "    </tr>\n",
       "    <tr>\n",
       "      <th>2</th>\n",
       "      <td>ramu</td>\n",
       "      <td>46</td>\n",
       "    </tr>\n",
       "    <tr>\n",
       "      <th>3</th>\n",
       "      <td>somu</td>\n",
       "      <td>29</td>\n",
       "    </tr>\n",
       "  </tbody>\n",
       "</table>\n",
       "</div>"
      ],
      "text/plain": [
       "  Names  Marks\n",
       "0   sai     45\n",
       "1  ajay     20\n",
       "2  ramu     46\n",
       "3  somu     29"
      ]
     },
     "execution_count": 21,
     "metadata": {},
     "output_type": "execute_result"
    }
   ],
   "source": [
    "column1 = ['sai','ajay','ramu','somu']\n",
    "column2 = [45,20,46,29]\n",
    "\n",
    "df = pd.DataFrame({'Names': column1,'Marks': column2})\n",
    "df"
   ]
  },
  {
   "cell_type": "code",
   "execution_count": null,
   "id": "f2d20765",
   "metadata": {},
   "outputs": [],
   "source": []
  },
  {
   "cell_type": "markdown",
   "id": "29d50f32",
   "metadata": {},
   "source": [
    "### Let's get first 2 rows"
   ]
  },
  {
   "cell_type": "code",
   "execution_count": 22,
   "id": "deda7306",
   "metadata": {},
   "outputs": [
    {
     "data": {
      "text/html": [
       "<div>\n",
       "<style scoped>\n",
       "    .dataframe tbody tr th:only-of-type {\n",
       "        vertical-align: middle;\n",
       "    }\n",
       "\n",
       "    .dataframe tbody tr th {\n",
       "        vertical-align: top;\n",
       "    }\n",
       "\n",
       "    .dataframe thead th {\n",
       "        text-align: right;\n",
       "    }\n",
       "</style>\n",
       "<table border=\"1\" class=\"dataframe\">\n",
       "  <thead>\n",
       "    <tr style=\"text-align: right;\">\n",
       "      <th></th>\n",
       "      <th>Names</th>\n",
       "      <th>Marks</th>\n",
       "    </tr>\n",
       "  </thead>\n",
       "  <tbody>\n",
       "    <tr>\n",
       "      <th>0</th>\n",
       "      <td>sai</td>\n",
       "      <td>45</td>\n",
       "    </tr>\n",
       "    <tr>\n",
       "      <th>1</th>\n",
       "      <td>ajay</td>\n",
       "      <td>20</td>\n",
       "    </tr>\n",
       "  </tbody>\n",
       "</table>\n",
       "</div>"
      ],
      "text/plain": [
       "  Names  Marks\n",
       "0   sai     45\n",
       "1  ajay     20"
      ]
     },
     "execution_count": 22,
     "metadata": {},
     "output_type": "execute_result"
    }
   ],
   "source": [
    "df.head(2)"
   ]
  },
  {
   "cell_type": "markdown",
   "id": "704651a7",
   "metadata": {},
   "source": [
    "### Let's get last 2 rows"
   ]
  },
  {
   "cell_type": "code",
   "execution_count": 23,
   "id": "254e8efa",
   "metadata": {},
   "outputs": [
    {
     "data": {
      "text/html": [
       "<div>\n",
       "<style scoped>\n",
       "    .dataframe tbody tr th:only-of-type {\n",
       "        vertical-align: middle;\n",
       "    }\n",
       "\n",
       "    .dataframe tbody tr th {\n",
       "        vertical-align: top;\n",
       "    }\n",
       "\n",
       "    .dataframe thead th {\n",
       "        text-align: right;\n",
       "    }\n",
       "</style>\n",
       "<table border=\"1\" class=\"dataframe\">\n",
       "  <thead>\n",
       "    <tr style=\"text-align: right;\">\n",
       "      <th></th>\n",
       "      <th>Names</th>\n",
       "      <th>Marks</th>\n",
       "    </tr>\n",
       "  </thead>\n",
       "  <tbody>\n",
       "    <tr>\n",
       "      <th>2</th>\n",
       "      <td>ramu</td>\n",
       "      <td>46</td>\n",
       "    </tr>\n",
       "    <tr>\n",
       "      <th>3</th>\n",
       "      <td>somu</td>\n",
       "      <td>29</td>\n",
       "    </tr>\n",
       "  </tbody>\n",
       "</table>\n",
       "</div>"
      ],
      "text/plain": [
       "  Names  Marks\n",
       "2  ramu     46\n",
       "3  somu     29"
      ]
     },
     "execution_count": 23,
     "metadata": {},
     "output_type": "execute_result"
    }
   ],
   "source": [
    "df.tail(2)"
   ]
  },
  {
   "cell_type": "markdown",
   "id": "fcb03ea7",
   "metadata": {},
   "source": [
    "### Printing all columns"
   ]
  },
  {
   "cell_type": "code",
   "execution_count": 24,
   "id": "24f053af",
   "metadata": {},
   "outputs": [
    {
     "data": {
      "text/plain": [
       "Index(['Names', 'Marks'], dtype='object')"
      ]
     },
     "execution_count": 24,
     "metadata": {},
     "output_type": "execute_result"
    }
   ],
   "source": [
    "df.columns"
   ]
  },
  {
   "cell_type": "code",
   "execution_count": 25,
   "id": "a39e2e6b",
   "metadata": {},
   "outputs": [],
   "source": [
    "#Let's change column Names\n",
    "df.columns = ['Stud_Names','Stud_marks']"
   ]
  },
  {
   "cell_type": "code",
   "execution_count": 26,
   "id": "e594e267",
   "metadata": {},
   "outputs": [
    {
     "data": {
      "text/html": [
       "<div>\n",
       "<style scoped>\n",
       "    .dataframe tbody tr th:only-of-type {\n",
       "        vertical-align: middle;\n",
       "    }\n",
       "\n",
       "    .dataframe tbody tr th {\n",
       "        vertical-align: top;\n",
       "    }\n",
       "\n",
       "    .dataframe thead th {\n",
       "        text-align: right;\n",
       "    }\n",
       "</style>\n",
       "<table border=\"1\" class=\"dataframe\">\n",
       "  <thead>\n",
       "    <tr style=\"text-align: right;\">\n",
       "      <th></th>\n",
       "      <th>Stud_Names</th>\n",
       "      <th>Stud_marks</th>\n",
       "    </tr>\n",
       "  </thead>\n",
       "  <tbody>\n",
       "    <tr>\n",
       "      <th>0</th>\n",
       "      <td>sai</td>\n",
       "      <td>45</td>\n",
       "    </tr>\n",
       "    <tr>\n",
       "      <th>1</th>\n",
       "      <td>ajay</td>\n",
       "      <td>20</td>\n",
       "    </tr>\n",
       "    <tr>\n",
       "      <th>2</th>\n",
       "      <td>ramu</td>\n",
       "      <td>46</td>\n",
       "    </tr>\n",
       "    <tr>\n",
       "      <th>3</th>\n",
       "      <td>somu</td>\n",
       "      <td>29</td>\n",
       "    </tr>\n",
       "  </tbody>\n",
       "</table>\n",
       "</div>"
      ],
      "text/plain": [
       "  Stud_Names  Stud_marks\n",
       "0        sai          45\n",
       "1       ajay          20\n",
       "2       ramu          46\n",
       "3       somu          29"
      ]
     },
     "execution_count": 26,
     "metadata": {},
     "output_type": "execute_result"
    }
   ],
   "source": [
    "df"
   ]
  },
  {
   "cell_type": "code",
   "execution_count": null,
   "id": "0a5ac28c",
   "metadata": {},
   "outputs": [],
   "source": []
  },
  {
   "cell_type": "markdown",
   "id": "265d12a2",
   "metadata": {},
   "source": [
    "### Let's change row names "
   ]
  },
  {
   "cell_type": "code",
   "execution_count": 27,
   "id": "7ef4de00",
   "metadata": {},
   "outputs": [
    {
     "data": {
      "text/html": [
       "<div>\n",
       "<style scoped>\n",
       "    .dataframe tbody tr th:only-of-type {\n",
       "        vertical-align: middle;\n",
       "    }\n",
       "\n",
       "    .dataframe tbody tr th {\n",
       "        vertical-align: top;\n",
       "    }\n",
       "\n",
       "    .dataframe thead th {\n",
       "        text-align: right;\n",
       "    }\n",
       "</style>\n",
       "<table border=\"1\" class=\"dataframe\">\n",
       "  <thead>\n",
       "    <tr style=\"text-align: right;\">\n",
       "      <th></th>\n",
       "      <th>Stud_Names</th>\n",
       "      <th>Stud_marks</th>\n",
       "    </tr>\n",
       "  </thead>\n",
       "  <tbody>\n",
       "    <tr>\n",
       "      <th>a</th>\n",
       "      <td>sai</td>\n",
       "      <td>45</td>\n",
       "    </tr>\n",
       "    <tr>\n",
       "      <th>b</th>\n",
       "      <td>ajay</td>\n",
       "      <td>20</td>\n",
       "    </tr>\n",
       "    <tr>\n",
       "      <th>c</th>\n",
       "      <td>ramu</td>\n",
       "      <td>46</td>\n",
       "    </tr>\n",
       "    <tr>\n",
       "      <th>d</th>\n",
       "      <td>somu</td>\n",
       "      <td>29</td>\n",
       "    </tr>\n",
       "  </tbody>\n",
       "</table>\n",
       "</div>"
      ],
      "text/plain": [
       "  Stud_Names  Stud_marks\n",
       "a        sai          45\n",
       "b       ajay          20\n",
       "c       ramu          46\n",
       "d       somu          29"
      ]
     },
     "execution_count": 27,
     "metadata": {},
     "output_type": "execute_result"
    }
   ],
   "source": [
    "df.index = ['a','b','c','d']\n",
    "df"
   ]
  },
  {
   "cell_type": "code",
   "execution_count": null,
   "id": "d19af4ab",
   "metadata": {},
   "outputs": [],
   "source": []
  },
  {
   "cell_type": "code",
   "execution_count": 28,
   "id": "fc29931c",
   "metadata": {},
   "outputs": [
    {
     "data": {
      "text/plain": [
       "a    45\n",
       "b    20\n",
       "c    46\n",
       "d    29\n",
       "Name: Stud_marks, dtype: int64"
      ]
     },
     "execution_count": 28,
     "metadata": {},
     "output_type": "execute_result"
    }
   ],
   "source": [
    "#Let's see how we get only one column (Stud_marks)\n",
    "df['Stud_marks']"
   ]
  },
  {
   "cell_type": "code",
   "execution_count": 29,
   "id": "6009c811",
   "metadata": {},
   "outputs": [],
   "source": [
    "#Let's see how we can delete single column (Stud_marks)\n",
    "del df['Stud_marks']"
   ]
  },
  {
   "cell_type": "code",
   "execution_count": null,
   "id": "0aa690c5",
   "metadata": {},
   "outputs": [],
   "source": []
  },
  {
   "cell_type": "code",
   "execution_count": 31,
   "id": "2fec3963",
   "metadata": {},
   "outputs": [
    {
     "data": {
      "text/html": [
       "<div>\n",
       "<style scoped>\n",
       "    .dataframe tbody tr th:only-of-type {\n",
       "        vertical-align: middle;\n",
       "    }\n",
       "\n",
       "    .dataframe tbody tr th {\n",
       "        vertical-align: top;\n",
       "    }\n",
       "\n",
       "    .dataframe thead th {\n",
       "        text-align: right;\n",
       "    }\n",
       "</style>\n",
       "<table border=\"1\" class=\"dataframe\">\n",
       "  <thead>\n",
       "    <tr style=\"text-align: right;\">\n",
       "      <th></th>\n",
       "      <th>Names</th>\n",
       "      <th>Marks</th>\n",
       "      <th>Grade</th>\n",
       "    </tr>\n",
       "  </thead>\n",
       "  <tbody>\n",
       "    <tr>\n",
       "      <th>0</th>\n",
       "      <td>sai</td>\n",
       "      <td>45</td>\n",
       "      <td>A</td>\n",
       "    </tr>\n",
       "    <tr>\n",
       "      <th>1</th>\n",
       "      <td>ajay</td>\n",
       "      <td>20</td>\n",
       "      <td>D</td>\n",
       "    </tr>\n",
       "    <tr>\n",
       "      <th>2</th>\n",
       "      <td>ramu</td>\n",
       "      <td>46</td>\n",
       "      <td>A</td>\n",
       "    </tr>\n",
       "    <tr>\n",
       "      <th>3</th>\n",
       "      <td>somu</td>\n",
       "      <td>29</td>\n",
       "      <td>B</td>\n",
       "    </tr>\n",
       "  </tbody>\n",
       "</table>\n",
       "</div>"
      ],
      "text/plain": [
       "  Names  Marks Grade\n",
       "0   sai     45     A\n",
       "1  ajay     20     D\n",
       "2  ramu     46     A\n",
       "3  somu     29     B"
      ]
     },
     "execution_count": 31,
     "metadata": {},
     "output_type": "execute_result"
    }
   ],
   "source": [
    "column1 = ['sai','ajay','ramu','somu']\n",
    "column2 = [45,20,46,29]\n",
    "column3 = ['A','D','A','B']\n",
    "\n",
    "df = pd.DataFrame({'Names': column1,'Marks': column2,'Grade': column3})\n",
    "df"
   ]
  },
  {
   "cell_type": "markdown",
   "id": "278a8fa6",
   "metadata": {},
   "source": [
    "### Let's access rows from index 1 to index 3"
   ]
  },
  {
   "cell_type": "markdown",
   "id": "daf63cef",
   "metadata": {},
   "source": [
    ".Here ending index is exclusive."
   ]
  },
  {
   "cell_type": "code",
   "execution_count": 32,
   "id": "fdf56d15",
   "metadata": {},
   "outputs": [
    {
     "data": {
      "text/html": [
       "<div>\n",
       "<style scoped>\n",
       "    .dataframe tbody tr th:only-of-type {\n",
       "        vertical-align: middle;\n",
       "    }\n",
       "\n",
       "    .dataframe tbody tr th {\n",
       "        vertical-align: top;\n",
       "    }\n",
       "\n",
       "    .dataframe thead th {\n",
       "        text-align: right;\n",
       "    }\n",
       "</style>\n",
       "<table border=\"1\" class=\"dataframe\">\n",
       "  <thead>\n",
       "    <tr style=\"text-align: right;\">\n",
       "      <th></th>\n",
       "      <th>Names</th>\n",
       "      <th>Marks</th>\n",
       "      <th>Grade</th>\n",
       "    </tr>\n",
       "  </thead>\n",
       "  <tbody>\n",
       "    <tr>\n",
       "      <th>1</th>\n",
       "      <td>ajay</td>\n",
       "      <td>20</td>\n",
       "      <td>D</td>\n",
       "    </tr>\n",
       "    <tr>\n",
       "      <th>2</th>\n",
       "      <td>ramu</td>\n",
       "      <td>46</td>\n",
       "      <td>A</td>\n",
       "    </tr>\n",
       "    <tr>\n",
       "      <th>3</th>\n",
       "      <td>somu</td>\n",
       "      <td>29</td>\n",
       "      <td>B</td>\n",
       "    </tr>\n",
       "  </tbody>\n",
       "</table>\n",
       "</div>"
      ],
      "text/plain": [
       "  Names  Marks Grade\n",
       "1  ajay     20     D\n",
       "2  ramu     46     A\n",
       "3  somu     29     B"
      ]
     },
     "execution_count": 32,
     "metadata": {},
     "output_type": "execute_result"
    }
   ],
   "source": [
    "df.iloc[1:4]"
   ]
  },
  {
   "cell_type": "markdown",
   "id": "902a5c1e",
   "metadata": {},
   "source": [
    "### Let's access rows from index 1 to index 3 but only Grade column which is index 2"
   ]
  },
  {
   "cell_type": "code",
   "execution_count": 34,
   "id": "57cebf61",
   "metadata": {},
   "outputs": [
    {
     "data": {
      "text/plain": [
       "1    D\n",
       "2    A\n",
       "3    B\n",
       "Name: Grade, dtype: object"
      ]
     },
     "execution_count": 34,
     "metadata": {},
     "output_type": "execute_result"
    }
   ],
   "source": [
    "df.iloc[1:4,2] #df[rows,columns]"
   ]
  },
  {
   "cell_type": "markdown",
   "id": "8d266f23",
   "metadata": {},
   "source": [
    "### Accessing all rows and columns "
   ]
  },
  {
   "cell_type": "code",
   "execution_count": 35,
   "id": "d85f29f6",
   "metadata": {},
   "outputs": [
    {
     "data": {
      "text/html": [
       "<div>\n",
       "<style scoped>\n",
       "    .dataframe tbody tr th:only-of-type {\n",
       "        vertical-align: middle;\n",
       "    }\n",
       "\n",
       "    .dataframe tbody tr th {\n",
       "        vertical-align: top;\n",
       "    }\n",
       "\n",
       "    .dataframe thead th {\n",
       "        text-align: right;\n",
       "    }\n",
       "</style>\n",
       "<table border=\"1\" class=\"dataframe\">\n",
       "  <thead>\n",
       "    <tr style=\"text-align: right;\">\n",
       "      <th></th>\n",
       "      <th>Names</th>\n",
       "      <th>Marks</th>\n",
       "      <th>Grade</th>\n",
       "    </tr>\n",
       "  </thead>\n",
       "  <tbody>\n",
       "    <tr>\n",
       "      <th>0</th>\n",
       "      <td>sai</td>\n",
       "      <td>45</td>\n",
       "      <td>A</td>\n",
       "    </tr>\n",
       "    <tr>\n",
       "      <th>1</th>\n",
       "      <td>ajay</td>\n",
       "      <td>20</td>\n",
       "      <td>D</td>\n",
       "    </tr>\n",
       "    <tr>\n",
       "      <th>2</th>\n",
       "      <td>ramu</td>\n",
       "      <td>46</td>\n",
       "      <td>A</td>\n",
       "    </tr>\n",
       "    <tr>\n",
       "      <th>3</th>\n",
       "      <td>somu</td>\n",
       "      <td>29</td>\n",
       "      <td>B</td>\n",
       "    </tr>\n",
       "  </tbody>\n",
       "</table>\n",
       "</div>"
      ],
      "text/plain": [
       "  Names  Marks Grade\n",
       "0   sai     45     A\n",
       "1  ajay     20     D\n",
       "2  ramu     46     A\n",
       "3  somu     29     B"
      ]
     },
     "execution_count": 35,
     "metadata": {},
     "output_type": "execute_result"
    }
   ],
   "source": [
    "df.iloc[:,:]"
   ]
  },
  {
   "cell_type": "markdown",
   "id": "51091361",
   "metadata": {},
   "source": [
    "### Performing Mathematical Operations  "
   ]
  },
  {
   "cell_type": "markdown",
   "id": "324a0793",
   "metadata": {},
   "source": [
    ".Let's get all students who have got marks greater than 30"
   ]
  },
  {
   "cell_type": "code",
   "execution_count": 36,
   "id": "fa7551a7",
   "metadata": {},
   "outputs": [
    {
     "data": {
      "text/html": [
       "<div>\n",
       "<style scoped>\n",
       "    .dataframe tbody tr th:only-of-type {\n",
       "        vertical-align: middle;\n",
       "    }\n",
       "\n",
       "    .dataframe tbody tr th {\n",
       "        vertical-align: top;\n",
       "    }\n",
       "\n",
       "    .dataframe thead th {\n",
       "        text-align: right;\n",
       "    }\n",
       "</style>\n",
       "<table border=\"1\" class=\"dataframe\">\n",
       "  <thead>\n",
       "    <tr style=\"text-align: right;\">\n",
       "      <th></th>\n",
       "      <th>Names</th>\n",
       "      <th>Marks</th>\n",
       "      <th>Grade</th>\n",
       "    </tr>\n",
       "  </thead>\n",
       "  <tbody>\n",
       "    <tr>\n",
       "      <th>0</th>\n",
       "      <td>sai</td>\n",
       "      <td>45</td>\n",
       "      <td>A</td>\n",
       "    </tr>\n",
       "    <tr>\n",
       "      <th>2</th>\n",
       "      <td>ramu</td>\n",
       "      <td>46</td>\n",
       "      <td>A</td>\n",
       "    </tr>\n",
       "  </tbody>\n",
       "</table>\n",
       "</div>"
      ],
      "text/plain": [
       "  Names  Marks Grade\n",
       "0   sai     45     A\n",
       "2  ramu     46     A"
      ]
     },
     "execution_count": 36,
     "metadata": {},
     "output_type": "execute_result"
    }
   ],
   "source": [
    "df[df['Marks']>30]"
   ]
  },
  {
   "cell_type": "markdown",
   "id": "902fc5a8",
   "metadata": {},
   "source": [
    ".Let's get who got Grade A"
   ]
  },
  {
   "cell_type": "code",
   "execution_count": 38,
   "id": "8be20037",
   "metadata": {},
   "outputs": [
    {
     "data": {
      "text/html": [
       "<div>\n",
       "<style scoped>\n",
       "    .dataframe tbody tr th:only-of-type {\n",
       "        vertical-align: middle;\n",
       "    }\n",
       "\n",
       "    .dataframe tbody tr th {\n",
       "        vertical-align: top;\n",
       "    }\n",
       "\n",
       "    .dataframe thead th {\n",
       "        text-align: right;\n",
       "    }\n",
       "</style>\n",
       "<table border=\"1\" class=\"dataframe\">\n",
       "  <thead>\n",
       "    <tr style=\"text-align: right;\">\n",
       "      <th></th>\n",
       "      <th>Names</th>\n",
       "      <th>Marks</th>\n",
       "      <th>Grade</th>\n",
       "    </tr>\n",
       "  </thead>\n",
       "  <tbody>\n",
       "    <tr>\n",
       "      <th>0</th>\n",
       "      <td>sai</td>\n",
       "      <td>45</td>\n",
       "      <td>A</td>\n",
       "    </tr>\n",
       "    <tr>\n",
       "      <th>2</th>\n",
       "      <td>ramu</td>\n",
       "      <td>46</td>\n",
       "      <td>A</td>\n",
       "    </tr>\n",
       "  </tbody>\n",
       "</table>\n",
       "</div>"
      ],
      "text/plain": [
       "  Names  Marks Grade\n",
       "0   sai     45     A\n",
       "2  ramu     46     A"
      ]
     },
     "execution_count": 38,
     "metadata": {},
     "output_type": "execute_result"
    }
   ],
   "source": [
    "df[df['Grade']=='A']"
   ]
  },
  {
   "cell_type": "markdown",
   "id": "4c350ede",
   "metadata": {},
   "source": [
    ".Let's access Multiple Columns"
   ]
  },
  {
   "cell_type": "code",
   "execution_count": 40,
   "id": "ff1dc3ca",
   "metadata": {},
   "outputs": [
    {
     "data": {
      "text/html": [
       "<div>\n",
       "<style scoped>\n",
       "    .dataframe tbody tr th:only-of-type {\n",
       "        vertical-align: middle;\n",
       "    }\n",
       "\n",
       "    .dataframe tbody tr th {\n",
       "        vertical-align: top;\n",
       "    }\n",
       "\n",
       "    .dataframe thead th {\n",
       "        text-align: right;\n",
       "    }\n",
       "</style>\n",
       "<table border=\"1\" class=\"dataframe\">\n",
       "  <thead>\n",
       "    <tr style=\"text-align: right;\">\n",
       "      <th></th>\n",
       "      <th>Names</th>\n",
       "      <th>Grade</th>\n",
       "    </tr>\n",
       "  </thead>\n",
       "  <tbody>\n",
       "    <tr>\n",
       "      <th>0</th>\n",
       "      <td>sai</td>\n",
       "      <td>A</td>\n",
       "    </tr>\n",
       "    <tr>\n",
       "      <th>1</th>\n",
       "      <td>ajay</td>\n",
       "      <td>D</td>\n",
       "    </tr>\n",
       "    <tr>\n",
       "      <th>2</th>\n",
       "      <td>ramu</td>\n",
       "      <td>A</td>\n",
       "    </tr>\n",
       "    <tr>\n",
       "      <th>3</th>\n",
       "      <td>somu</td>\n",
       "      <td>B</td>\n",
       "    </tr>\n",
       "  </tbody>\n",
       "</table>\n",
       "</div>"
      ],
      "text/plain": [
       "  Names Grade\n",
       "0   sai     A\n",
       "1  ajay     D\n",
       "2  ramu     A\n",
       "3  somu     B"
      ]
     },
     "execution_count": 40,
     "metadata": {},
     "output_type": "execute_result"
    }
   ],
   "source": [
    "df[['Names','Grade']]"
   ]
  },
  {
   "cell_type": "code",
   "execution_count": null,
   "id": "2b710d3b",
   "metadata": {},
   "outputs": [],
   "source": []
  },
  {
   "cell_type": "markdown",
   "id": "3be16348",
   "metadata": {},
   "source": [
    "# Creating and Reading CSV files"
   ]
  },
  {
   "cell_type": "code",
   "execution_count": 41,
   "id": "63e44a42",
   "metadata": {},
   "outputs": [],
   "source": [
    "#importing pandas library\n",
    "import pandas as pd"
   ]
  },
  {
   "cell_type": "code",
   "execution_count": 42,
   "id": "76795e6b",
   "metadata": {},
   "outputs": [
    {
     "data": {
      "text/html": [
       "<div>\n",
       "<style scoped>\n",
       "    .dataframe tbody tr th:only-of-type {\n",
       "        vertical-align: middle;\n",
       "    }\n",
       "\n",
       "    .dataframe tbody tr th {\n",
       "        vertical-align: top;\n",
       "    }\n",
       "\n",
       "    .dataframe thead th {\n",
       "        text-align: right;\n",
       "    }\n",
       "</style>\n",
       "<table border=\"1\" class=\"dataframe\">\n",
       "  <thead>\n",
       "    <tr style=\"text-align: right;\">\n",
       "      <th></th>\n",
       "      <th>Names</th>\n",
       "      <th>Marks</th>\n",
       "      <th>Grade</th>\n",
       "    </tr>\n",
       "  </thead>\n",
       "  <tbody>\n",
       "    <tr>\n",
       "      <th>0</th>\n",
       "      <td>sai</td>\n",
       "      <td>45</td>\n",
       "      <td>A</td>\n",
       "    </tr>\n",
       "    <tr>\n",
       "      <th>1</th>\n",
       "      <td>ajay</td>\n",
       "      <td>20</td>\n",
       "      <td>D</td>\n",
       "    </tr>\n",
       "    <tr>\n",
       "      <th>2</th>\n",
       "      <td>ramu</td>\n",
       "      <td>46</td>\n",
       "      <td>A</td>\n",
       "    </tr>\n",
       "    <tr>\n",
       "      <th>3</th>\n",
       "      <td>somu</td>\n",
       "      <td>29</td>\n",
       "      <td>B</td>\n",
       "    </tr>\n",
       "  </tbody>\n",
       "</table>\n",
       "</div>"
      ],
      "text/plain": [
       "  Names  Marks Grade\n",
       "0   sai     45     A\n",
       "1  ajay     20     D\n",
       "2  ramu     46     A\n",
       "3  somu     29     B"
      ]
     },
     "execution_count": 42,
     "metadata": {},
     "output_type": "execute_result"
    }
   ],
   "source": [
    "#Creating Samole Dataframe\n",
    "column1 = ['sai','ajay','ramu','somu']\n",
    "column2 = [45,20,46,29]\n",
    "column3 = ['A','D','A','B']\n",
    "\n",
    "df = pd.DataFrame({'Names': column1,'Marks': column2,'Grade': column3})\n",
    "df"
   ]
  },
  {
   "cell_type": "markdown",
   "id": "f96c838a",
   "metadata": {},
   "source": [
    "### Converting this Dataframe to .csv() "
   ]
  },
  {
   "cell_type": "markdown",
   "id": "dbf9dcca",
   "metadata": {},
   "source": [
    "Format:\n",
    "\n",
    "dataframe_name.to_csv('csv_filename')"
   ]
  },
  {
   "cell_type": "code",
   "execution_count": 44,
   "id": "b3c873be",
   "metadata": {},
   "outputs": [],
   "source": [
    "df.to_csv('student_marks.csv',index = False) #here index=false means we don't want 0,1,2,3 in csv file"
   ]
  },
  {
   "cell_type": "code",
   "execution_count": 45,
   "id": "85335401",
   "metadata": {},
   "outputs": [
    {
     "data": {
      "text/plain": [
       "['.bash_history',\n",
       " '.conda',\n",
       " '.condarc',\n",
       " '.continuum',\n",
       " '.git',\n",
       " '.gitconfig',\n",
       " '.ipynb_checkpoints',\n",
       " '.ipython',\n",
       " '.jupyter',\n",
       " '.keras',\n",
       " '.matplotlib',\n",
       " '.spyder-py3',\n",
       " '.vscode',\n",
       " '01_Bar_graph.ipynb',\n",
       " '02_Scatterplot.ipynb',\n",
       " '03_Line.ipynb',\n",
       " '04_Histogram.ipynb',\n",
       " '05_Box_plot.ipynb',\n",
       " '06_Subplots.ipynb',\n",
       " '1st program.ipynb',\n",
       " '30 days python.ipynb',\n",
       " '3D Objects',\n",
       " 'Additional Content(Conversion ,Input).ipynb',\n",
       " 'Additional content.ipynb',\n",
       " 'airlines_final.csv',\n",
       " 'All Patterns.ipynb',\n",
       " 'anaconda3',\n",
       " 'AppData',\n",
       " 'Application Data',\n",
       " 'Arrays.ipynb',\n",
       " 'assignment 3.ipynb',\n",
       " 'assignment 4.ipynb',\n",
       " 'Basics_of_python (1).ipynb',\n",
       " 'Call by value and call by reference.ipynb',\n",
       " 'Comprehensions(LIST,SETS,MAPS).ipynb',\n",
       " 'Contacts',\n",
       " 'Cookies',\n",
       " 'Data Structure (Dictionary).ipynb',\n",
       " 'Data Structure (LIST).ipynb',\n",
       " 'Data Structure (Tuple).ipynb',\n",
       " 'Data Structures (Sets).ipynb',\n",
       " 'Data_structures_in_Python_questions (1).ipynb',\n",
       " 'Desktop',\n",
       " 'Documents',\n",
       " 'Downloads',\n",
       " 'Favorites',\n",
       " 'For Loops.ipynb',\n",
       " 'Free python bootcamp day-1 (Intro to Python).ipynb',\n",
       " 'Full COnditional Statements.ipynb',\n",
       " 'Functions.ipynb',\n",
       " 'generators.ipynb',\n",
       " 'IntelGraphicsProfiles',\n",
       " 'iterators.ipynb',\n",
       " 'JBLFLIP.txt',\n",
       " 'Jedi',\n",
       " 'Links',\n",
       " 'List Vs Numpy.ipynb',\n",
       " 'Local Settings',\n",
       " 'Math Function.ipynb',\n",
       " 'MINI Projects.ipynb',\n",
       " 'miniconda3',\n",
       " 'ML - Master Class - Day 3.ipynb',\n",
       " 'Music',\n",
       " 'My Documents',\n",
       " 'NetHood',\n",
       " 'NTUSER.DAT',\n",
       " 'ntuser.dat.LOG1',\n",
       " 'ntuser.dat.LOG2',\n",
       " 'NTUSER.DAT{b8458df6-a166-11eb-a2ea-ec2e9893d56a}.TM.blf',\n",
       " 'NTUSER.DAT{b8458df6-a166-11eb-a2ea-ec2e9893d56a}.TMContainer00000000000000000001.regtrans-ms',\n",
       " 'NTUSER.DAT{b8458df6-a166-11eb-a2ea-ec2e9893d56a}.TMContainer00000000000000000002.regtrans-ms',\n",
       " 'ntuser.ini',\n",
       " 'Number gussing with python.ipynb',\n",
       " 'Numpy Additional .ipynb',\n",
       " 'Numpy Array Dimensions.ipynb',\n",
       " 'Numpy Array Indexing.ipynb',\n",
       " 'Numpy array Reshaping & Slicing.ipynb',\n",
       " 'Numpy.ipynb',\n",
       " 'OneDrive',\n",
       " 'OOPS fasttrack.ipynb',\n",
       " 'Operators.ipynb',\n",
       " 'Operators.ipynb.txt',\n",
       " 'Pandas.ipynb',\n",
       " 'Pictures',\n",
       " 'PrintHood',\n",
       " 'Project_1_On Global_Superstore_2016 Solution.ipynb',\n",
       " 'Project_2_On Olympics_Data Solution.ipynb',\n",
       " 'Python',\n",
       " 'Python Type Casting.ipynb',\n",
       " 'Python+Exercise+-+2+Part+(2) (1).ipynb',\n",
       " 'Recent',\n",
       " 'review.txt',\n",
       " 'Saved Games',\n",
       " 'Searches',\n",
       " 'SendTo',\n",
       " 'Spam Detection using python.ipynb',\n",
       " 'sql',\n",
       " 'Start Menu',\n",
       " 'Strings.ipynb',\n",
       " 'student_marks.csv',\n",
       " 'Templates',\n",
       " 'test.csv',\n",
       " 'test1.csv',\n",
       " 'Tracing',\n",
       " 'Untitled.ipynb',\n",
       " 'Untitled1.ipynb',\n",
       " 'Untitled14.ipynb',\n",
       " 'Untitled2.ipynb',\n",
       " 'Untitled3.ipynb',\n",
       " 'Untitled4.ipynb',\n",
       " 'Untitled5.ipynb',\n",
       " 'Untitled6.ipynb',\n",
       " 'Untitled7.ipynb',\n",
       " 'Untitled8.ipynb',\n",
       " 'Untitled9.ipynb',\n",
       " 'Videos',\n",
       " 'WHILE LOOPS.ipynb',\n",
       " 'wineHierarchicaloutput1python.csv',\n",
       " 'wineHierarchicalPCAoutput1python.csv',\n",
       " 'wineKMeansoutput1.csv',\n",
       " 'wineKMeansPCAoutput1.csv']"
      ]
     },
     "execution_count": 45,
     "metadata": {},
     "output_type": "execute_result"
    }
   ],
   "source": [
    "#checking all files present in my directory\n",
    "import os\n",
    "os.listdir()"
   ]
  },
  {
   "cell_type": "code",
   "execution_count": null,
   "id": "177705bf",
   "metadata": {},
   "outputs": [],
   "source": []
  },
  {
   "cell_type": "markdown",
   "id": "2651a7a2",
   "metadata": {},
   "source": [
    "### Reading CSV files "
   ]
  },
  {
   "cell_type": "code",
   "execution_count": 46,
   "id": "78f8e2d5",
   "metadata": {},
   "outputs": [
    {
     "data": {
      "text/html": [
       "<div>\n",
       "<style scoped>\n",
       "    .dataframe tbody tr th:only-of-type {\n",
       "        vertical-align: middle;\n",
       "    }\n",
       "\n",
       "    .dataframe tbody tr th {\n",
       "        vertical-align: top;\n",
       "    }\n",
       "\n",
       "    .dataframe thead th {\n",
       "        text-align: right;\n",
       "    }\n",
       "</style>\n",
       "<table border=\"1\" class=\"dataframe\">\n",
       "  <thead>\n",
       "    <tr style=\"text-align: right;\">\n",
       "      <th></th>\n",
       "      <th>Names</th>\n",
       "      <th>Marks</th>\n",
       "      <th>Grade</th>\n",
       "    </tr>\n",
       "  </thead>\n",
       "  <tbody>\n",
       "    <tr>\n",
       "      <th>0</th>\n",
       "      <td>sai</td>\n",
       "      <td>45</td>\n",
       "      <td>A</td>\n",
       "    </tr>\n",
       "    <tr>\n",
       "      <th>1</th>\n",
       "      <td>ajay</td>\n",
       "      <td>20</td>\n",
       "      <td>D</td>\n",
       "    </tr>\n",
       "    <tr>\n",
       "      <th>2</th>\n",
       "      <td>ramu</td>\n",
       "      <td>46</td>\n",
       "      <td>A</td>\n",
       "    </tr>\n",
       "    <tr>\n",
       "      <th>3</th>\n",
       "      <td>somu</td>\n",
       "      <td>29</td>\n",
       "      <td>B</td>\n",
       "    </tr>\n",
       "  </tbody>\n",
       "</table>\n",
       "</div>"
      ],
      "text/plain": [
       "  Names  Marks Grade\n",
       "0   sai     45     A\n",
       "1  ajay     20     D\n",
       "2  ramu     46     A\n",
       "3  somu     29     B"
      ]
     },
     "execution_count": 46,
     "metadata": {},
     "output_type": "execute_result"
    }
   ],
   "source": [
    "df1 = pd.read_csv('student_marks.csv')\n",
    "df1"
   ]
  },
  {
   "cell_type": "code",
   "execution_count": null,
   "id": "d6f36f5a",
   "metadata": {},
   "outputs": [],
   "source": []
  },
  {
   "cell_type": "markdown",
   "id": "c455f9ed",
   "metadata": {},
   "source": [
    "# Pandas GroupBy"
   ]
  },
  {
   "cell_type": "code",
   "execution_count": null,
   "id": "e7b0fc03",
   "metadata": {},
   "outputs": [],
   "source": []
  },
  {
   "cell_type": "markdown",
   "id": "bbbcf25f",
   "metadata": {},
   "source": [
    "### 1. Pandas dataframe.groupby() is used to split the data into groups based on some criteria.\n",
    "\n",
    "### 2. Pndas groupby is used for grouping the data according to the categories and apply a function to categories like [Average,Sum,Max,Min]"
   ]
  },
  {
   "cell_type": "code",
   "execution_count": null,
   "id": "1d6b9c66",
   "metadata": {},
   "outputs": [],
   "source": []
  },
  {
   "cell_type": "code",
   "execution_count": 47,
   "id": "b54bf8ae",
   "metadata": {},
   "outputs": [],
   "source": [
    "#importing pandas library\n",
    "import pandas as pd"
   ]
  },
  {
   "cell_type": "code",
   "execution_count": 49,
   "id": "220b7d00",
   "metadata": {},
   "outputs": [
    {
     "data": {
      "text/html": [
       "<div>\n",
       "<style scoped>\n",
       "    .dataframe tbody tr th:only-of-type {\n",
       "        vertical-align: middle;\n",
       "    }\n",
       "\n",
       "    .dataframe tbody tr th {\n",
       "        vertical-align: top;\n",
       "    }\n",
       "\n",
       "    .dataframe thead th {\n",
       "        text-align: right;\n",
       "    }\n",
       "</style>\n",
       "<table border=\"1\" class=\"dataframe\">\n",
       "  <thead>\n",
       "    <tr style=\"text-align: right;\">\n",
       "      <th></th>\n",
       "      <th>Names</th>\n",
       "      <th>Marks</th>\n",
       "      <th>Subject</th>\n",
       "    </tr>\n",
       "  </thead>\n",
       "  <tbody>\n",
       "    <tr>\n",
       "      <th>0</th>\n",
       "      <td>Yeswanth</td>\n",
       "      <td>45</td>\n",
       "      <td>Maths</td>\n",
       "    </tr>\n",
       "    <tr>\n",
       "      <th>1</th>\n",
       "      <td>Ajay</td>\n",
       "      <td>29</td>\n",
       "      <td>Physics</td>\n",
       "    </tr>\n",
       "    <tr>\n",
       "      <th>2</th>\n",
       "      <td>Kiran</td>\n",
       "      <td>49</td>\n",
       "      <td>Social</td>\n",
       "    </tr>\n",
       "    <tr>\n",
       "      <th>3</th>\n",
       "      <td>Ajay</td>\n",
       "      <td>39</td>\n",
       "      <td>Maths</td>\n",
       "    </tr>\n",
       "    <tr>\n",
       "      <th>4</th>\n",
       "      <td>Yeswanth</td>\n",
       "      <td>22</td>\n",
       "      <td>Social</td>\n",
       "    </tr>\n",
       "    <tr>\n",
       "      <th>5</th>\n",
       "      <td>Kiran</td>\n",
       "      <td>30</td>\n",
       "      <td>Maths</td>\n",
       "    </tr>\n",
       "    <tr>\n",
       "      <th>6</th>\n",
       "      <td>Yeswanth</td>\n",
       "      <td>35</td>\n",
       "      <td>Physics</td>\n",
       "    </tr>\n",
       "    <tr>\n",
       "      <th>7</th>\n",
       "      <td>Ajay</td>\n",
       "      <td>41</td>\n",
       "      <td>Social</td>\n",
       "    </tr>\n",
       "    <tr>\n",
       "      <th>8</th>\n",
       "      <td>Kiran</td>\n",
       "      <td>26</td>\n",
       "      <td>Physics</td>\n",
       "    </tr>\n",
       "  </tbody>\n",
       "</table>\n",
       "</div>"
      ],
      "text/plain": [
       "      Names  Marks  Subject\n",
       "0  Yeswanth     45    Maths\n",
       "1      Ajay     29  Physics\n",
       "2     Kiran     49   Social\n",
       "3      Ajay     39    Maths\n",
       "4  Yeswanth     22   Social\n",
       "5     Kiran     30    Maths\n",
       "6  Yeswanth     35  Physics\n",
       "7      Ajay     41   Social\n",
       "8     Kiran     26  Physics"
      ]
     },
     "execution_count": 49,
     "metadata": {},
     "output_type": "execute_result"
    }
   ],
   "source": [
    "#Creating a Dataframe\n",
    "#here we have a dataframe consists of student's names and marks scored by student's in different subjects.\n",
    "column1 = [\"Yeswanth\",'Ajay','Kiran',\"Ajay\",\"Yeswanth\",\"Kiran\",\"Yeswanth\",\"Ajay\",\"Kiran\"]\n",
    "column2 = [45,29,49,39,22,30,35,41,26]\n",
    "column3 = ['Maths','Physics','Social','Maths','Social','Maths','Physics','Social','Physics']\n",
    "\n",
    "df = pd.DataFrame({'Names': column1,'Marks': column2,'Subject': column3})\n",
    "df"
   ]
  },
  {
   "cell_type": "code",
   "execution_count": 50,
   "id": "45db3c56",
   "metadata": {},
   "outputs": [],
   "source": [
    "#Here we have 3 students mainly like Yeswanth,Ajay,Kiran and scored in different subjects like Maths,Physics, Social. "
   ]
  },
  {
   "cell_type": "markdown",
   "id": "b44522b0",
   "metadata": {},
   "source": [
    "### Let's see who have scored top marks among the all "
   ]
  },
  {
   "cell_type": "code",
   "execution_count": 51,
   "id": "27ab4b8a",
   "metadata": {},
   "outputs": [
    {
     "data": {
      "text/html": [
       "<div>\n",
       "<style scoped>\n",
       "    .dataframe tbody tr th:only-of-type {\n",
       "        vertical-align: middle;\n",
       "    }\n",
       "\n",
       "    .dataframe tbody tr th {\n",
       "        vertical-align: top;\n",
       "    }\n",
       "\n",
       "    .dataframe thead th {\n",
       "        text-align: right;\n",
       "    }\n",
       "</style>\n",
       "<table border=\"1\" class=\"dataframe\">\n",
       "  <thead>\n",
       "    <tr style=\"text-align: right;\">\n",
       "      <th></th>\n",
       "      <th>Marks</th>\n",
       "    </tr>\n",
       "    <tr>\n",
       "      <th>Names</th>\n",
       "      <th></th>\n",
       "    </tr>\n",
       "  </thead>\n",
       "  <tbody>\n",
       "    <tr>\n",
       "      <th>Ajay</th>\n",
       "      <td>109</td>\n",
       "    </tr>\n",
       "    <tr>\n",
       "      <th>Kiran</th>\n",
       "      <td>105</td>\n",
       "    </tr>\n",
       "    <tr>\n",
       "      <th>Yeswanth</th>\n",
       "      <td>102</td>\n",
       "    </tr>\n",
       "  </tbody>\n",
       "</table>\n",
       "</div>"
      ],
      "text/plain": [
       "          Marks\n",
       "Names          \n",
       "Ajay        109\n",
       "Kiran       105\n",
       "Yeswanth    102"
      ]
     },
     "execution_count": 51,
     "metadata": {},
     "output_type": "execute_result"
    }
   ],
   "source": [
    "df.groupby('Names').agg('sum')"
   ]
  },
  {
   "cell_type": "code",
   "execution_count": 52,
   "id": "d33acff0",
   "metadata": {},
   "outputs": [],
   "source": [
    "#here we see Ajay scored more than kiran and yeswanth"
   ]
  },
  {
   "cell_type": "code",
   "execution_count": null,
   "id": "450dc439",
   "metadata": {},
   "outputs": [],
   "source": []
  },
  {
   "cell_type": "markdown",
   "id": "1bbd9f15",
   "metadata": {},
   "source": [
    "### Let's get Mean Scores  "
   ]
  },
  {
   "cell_type": "code",
   "execution_count": 53,
   "id": "3ef3f4af",
   "metadata": {},
   "outputs": [
    {
     "data": {
      "text/html": [
       "<div>\n",
       "<style scoped>\n",
       "    .dataframe tbody tr th:only-of-type {\n",
       "        vertical-align: middle;\n",
       "    }\n",
       "\n",
       "    .dataframe tbody tr th {\n",
       "        vertical-align: top;\n",
       "    }\n",
       "\n",
       "    .dataframe thead th {\n",
       "        text-align: right;\n",
       "    }\n",
       "</style>\n",
       "<table border=\"1\" class=\"dataframe\">\n",
       "  <thead>\n",
       "    <tr style=\"text-align: right;\">\n",
       "      <th></th>\n",
       "      <th>Marks</th>\n",
       "    </tr>\n",
       "    <tr>\n",
       "      <th>Names</th>\n",
       "      <th></th>\n",
       "    </tr>\n",
       "  </thead>\n",
       "  <tbody>\n",
       "    <tr>\n",
       "      <th>Ajay</th>\n",
       "      <td>36.333333</td>\n",
       "    </tr>\n",
       "    <tr>\n",
       "      <th>Kiran</th>\n",
       "      <td>35.000000</td>\n",
       "    </tr>\n",
       "    <tr>\n",
       "      <th>Yeswanth</th>\n",
       "      <td>34.000000</td>\n",
       "    </tr>\n",
       "  </tbody>\n",
       "</table>\n",
       "</div>"
      ],
      "text/plain": [
       "              Marks\n",
       "Names              \n",
       "Ajay      36.333333\n",
       "Kiran     35.000000\n",
       "Yeswanth  34.000000"
      ]
     },
     "execution_count": 53,
     "metadata": {},
     "output_type": "execute_result"
    }
   ],
   "source": [
    "df.groupby('Names').agg('mean')"
   ]
  },
  {
   "cell_type": "code",
   "execution_count": 54,
   "id": "d71de8d7",
   "metadata": {},
   "outputs": [],
   "source": [
    "#Mean score of ajay is more than others"
   ]
  },
  {
   "cell_type": "markdown",
   "id": "7840e15e",
   "metadata": {},
   "source": [
    "### Let's see  in which subjects these students got more marks  "
   ]
  },
  {
   "cell_type": "code",
   "execution_count": 55,
   "id": "9a450b0b",
   "metadata": {},
   "outputs": [
    {
     "data": {
      "text/html": [
       "<div>\n",
       "<style scoped>\n",
       "    .dataframe tbody tr th:only-of-type {\n",
       "        vertical-align: middle;\n",
       "    }\n",
       "\n",
       "    .dataframe tbody tr th {\n",
       "        vertical-align: top;\n",
       "    }\n",
       "\n",
       "    .dataframe thead th {\n",
       "        text-align: right;\n",
       "    }\n",
       "</style>\n",
       "<table border=\"1\" class=\"dataframe\">\n",
       "  <thead>\n",
       "    <tr style=\"text-align: right;\">\n",
       "      <th></th>\n",
       "      <th>Marks</th>\n",
       "      <th>Subject</th>\n",
       "    </tr>\n",
       "    <tr>\n",
       "      <th>Names</th>\n",
       "      <th></th>\n",
       "      <th></th>\n",
       "    </tr>\n",
       "  </thead>\n",
       "  <tbody>\n",
       "    <tr>\n",
       "      <th>Ajay</th>\n",
       "      <td>41</td>\n",
       "      <td>Social</td>\n",
       "    </tr>\n",
       "    <tr>\n",
       "      <th>Kiran</th>\n",
       "      <td>49</td>\n",
       "      <td>Social</td>\n",
       "    </tr>\n",
       "    <tr>\n",
       "      <th>Yeswanth</th>\n",
       "      <td>45</td>\n",
       "      <td>Social</td>\n",
       "    </tr>\n",
       "  </tbody>\n",
       "</table>\n",
       "</div>"
      ],
      "text/plain": [
       "          Marks Subject\n",
       "Names                  \n",
       "Ajay         41  Social\n",
       "Kiran        49  Social\n",
       "Yeswanth     45  Social"
      ]
     },
     "execution_count": 55,
     "metadata": {},
     "output_type": "execute_result"
    }
   ],
   "source": [
    "df.groupby('Names').agg('max')"
   ]
  },
  {
   "cell_type": "code",
   "execution_count": null,
   "id": "59796c01",
   "metadata": {},
   "outputs": [],
   "source": []
  }
 ],
 "metadata": {
  "kernelspec": {
   "display_name": "Python 3",
   "language": "python",
   "name": "python3"
  },
  "language_info": {
   "codemirror_mode": {
    "name": "ipython",
    "version": 3
   },
   "file_extension": ".py",
   "mimetype": "text/x-python",
   "name": "python",
   "nbconvert_exporter": "python",
   "pygments_lexer": "ipython3",
   "version": "3.8.8"
  }
 },
 "nbformat": 4,
 "nbformat_minor": 5
}
