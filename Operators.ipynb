{
 "cells": [
  {
   "cell_type": "code",
   "execution_count": 3,
   "id": "2c5e531f",
   "metadata": {},
   "outputs": [
    {
     "name": "stdout",
     "output_type": "stream",
     "text": [
      "11\n",
      "-1\n",
      "30\n",
      "2.5\n",
      "2\n",
      "9261\n",
      "5\n"
     ]
    }
   ],
   "source": [
    "# Aithmetic operators\n",
    "x = 5\n",
    "y = 6\n",
    "print(x+y) #addition\n",
    "print(x-y) #Subtraction\n",
    "print(x*y) #multiplication\n",
    "print(15/y) #division\n",
    "print(15//y) #int division\n",
    "print(21**3)#exponential\n",
    "print(x%y) #remainder"
   ]
  },
  {
   "cell_type": "code",
   "execution_count": 5,
   "id": "43dae99e",
   "metadata": {},
   "outputs": [
    {
     "data": {
      "text/plain": [
       "True"
      ]
     },
     "execution_count": 5,
     "metadata": {},
     "output_type": "execute_result"
    }
   ],
   "source": [
    "# Camparison operator\n",
    "x == y # equal\n",
    "x != y # not equal\n",
    "x < y #less than\n",
    "x > y #greater than\n",
    "x >= y #greater than equal to\n",
    "x  <= y #less than equal to"
   ]
  },
  {
   "cell_type": "code",
   "execution_count": 9,
   "id": "0110fbb7",
   "metadata": {},
   "outputs": [
    {
     "name": "stdout",
     "output_type": "stream",
     "text": [
      "7\n",
      "6\n",
      "30\n",
      "6\n"
     ]
    }
   ],
   "source": [
    "# Assignment operator \n",
    "a = 5\n",
    "a = a + 1\n",
    "#6\n",
    "a +=1 \n",
    "print(a)\n",
    "a -= 1 \n",
    "print(a)\n",
    "a *= 5 \n",
    "print(a)\n",
    "a //= 5 \n",
    "print(a)"
   ]
  },
  {
   "cell_type": "code",
   "execution_count": 10,
   "id": "25878864",
   "metadata": {},
   "outputs": [
    {
     "data": {
      "text/plain": [
       "False"
      ]
     },
     "execution_count": 10,
     "metadata": {},
     "output_type": "execute_result"
    }
   ],
   "source": [
    "# logical\n",
    "False and True\n",
    "False or True\n",
    "not True"
   ]
  },
  {
   "cell_type": "code",
   "execution_count": 12,
   "id": "7bde6398",
   "metadata": {},
   "outputs": [
    {
     "name": "stderr",
     "output_type": "stream",
     "text": [
      "<>:2: SyntaxWarning: \"is\" with a literal. Did you mean \"==\"?\n",
      "<>:2: SyntaxWarning: \"is\" with a literal. Did you mean \"==\"?\n",
      "<ipython-input-12-313de91b3e1a>:2: SyntaxWarning: \"is\" with a literal. Did you mean \"==\"?\n",
      "  'person' is \"Person\"\n"
     ]
    },
    {
     "data": {
      "text/plain": [
       "False"
      ]
     },
     "execution_count": 12,
     "metadata": {},
     "output_type": "execute_result"
    }
   ],
   "source": [
    "# Identity operator\n",
    "'person' is \"Person\"\n"
   ]
  },
  {
   "cell_type": "code",
   "execution_count": 13,
   "id": "d15930cd",
   "metadata": {},
   "outputs": [
    {
     "name": "stderr",
     "output_type": "stream",
     "text": [
      "<>:2: SyntaxWarning: \"is not\" with a literal. Did you mean \"!=\"?\n",
      "<>:2: SyntaxWarning: \"is not\" with a literal. Did you mean \"!=\"?\n",
      "<ipython-input-13-b6b54bdf6125>:2: SyntaxWarning: \"is not\" with a literal. Did you mean \"!=\"?\n",
      "  'Person' is not \"person\"\n"
     ]
    },
    {
     "data": {
      "text/plain": [
       "True"
      ]
     },
     "execution_count": 13,
     "metadata": {},
     "output_type": "execute_result"
    }
   ],
   "source": [
    "# Identity operator\n",
    "'Person' is not \"person\""
   ]
  },
  {
   "cell_type": "code",
   "execution_count": 14,
   "id": "8c72f20c",
   "metadata": {},
   "outputs": [
    {
     "data": {
      "text/plain": [
       "False"
      ]
     },
     "execution_count": 14,
     "metadata": {},
     "output_type": "execute_result"
    }
   ],
   "source": [
    "# membership operator\n",
    "'per' not in \"person\""
   ]
  },
  {
   "cell_type": "code",
   "execution_count": 16,
   "id": "dc822418",
   "metadata": {},
   "outputs": [
    {
     "data": {
      "text/plain": [
       "True"
      ]
     },
     "execution_count": 16,
     "metadata": {},
     "output_type": "execute_result"
    }
   ],
   "source": [
    "'per' in \"person\""
   ]
  },
  {
   "cell_type": "code",
   "execution_count": 17,
   "id": "2bdfbb3b",
   "metadata": {},
   "outputs": [
    {
     "data": {
      "text/plain": [
       "True"
      ]
     },
     "execution_count": 17,
     "metadata": {},
     "output_type": "execute_result"
    }
   ],
   "source": [
    "# bitwose operator\n",
    "True & True\n",
    "True | True"
   ]
  },
  {
   "cell_type": "code",
   "execution_count": 18,
   "id": "d59026c2",
   "metadata": {},
   "outputs": [
    {
     "data": {
      "text/plain": [
       "True"
      ]
     },
     "execution_count": 18,
     "metadata": {},
     "output_type": "execute_result"
    }
   ],
   "source": [
    "True | True"
   ]
  },
  {
   "cell_type": "code",
   "execution_count": 19,
   "id": "93bb54b2",
   "metadata": {},
   "outputs": [
    {
     "data": {
      "text/plain": [
       "True"
      ]
     },
     "execution_count": 19,
     "metadata": {},
     "output_type": "execute_result"
    }
   ],
   "source": [
    "True & True"
   ]
  },
  {
   "cell_type": "code",
   "execution_count": 21,
   "id": "523bfacd",
   "metadata": {},
   "outputs": [
    {
     "name": "stdout",
     "output_type": "stream",
     "text": [
      "True\n"
     ]
    }
   ],
   "source": [
    "# membership operator\n",
    "X = \"Hello programming is easy\"\n",
    "print('l' in X)"
   ]
  },
  {
   "cell_type": "code",
   "execution_count": 22,
   "id": "6140b5e6",
   "metadata": {},
   "outputs": [
    {
     "name": "stdout",
     "output_type": "stream",
     "text": [
      "False\n"
     ]
    }
   ],
   "source": [
    "print('k' in X)"
   ]
  },
  {
   "cell_type": "markdown",
   "id": "8d1bc478",
   "metadata": {},
   "source": [
    "# Operators precedence"
   ]
  },
  {
   "cell_type": "raw",
   "id": "e951a90d",
   "metadata": {},
   "source": [
    "Priority Order\n",
    "\n",
    "1.()\n",
    "2.**\n",
    "3.~,-\n",
    "4.*,/,%,//\n",
    "5.+,-\n",
    "6.<<,>>\n",
    "7.&\n",
    "8.^\n",
    "9.|\n",
    "10.>, >=,<,<=,==,!=\n",
    "11.=,+=,-=,*=\n",
    "12.is, not is\n",
    "13.in,not in\n",
    "14.not\n",
    "15.and\n",
    "16.or"
   ]
  },
  {
   "cell_type": "code",
   "execution_count": null,
   "id": "2a9221b7",
   "metadata": {},
   "outputs": [],
   "source": []
  }
 ],
 "metadata": {
  "kernelspec": {
   "display_name": "Python 3",
   "language": "python",
   "name": "python3"
  },
  "language_info": {
   "codemirror_mode": {
    "name": "ipython",
    "version": 3
   },
   "file_extension": ".py",
   "mimetype": "text/x-python",
   "name": "python",
   "nbconvert_exporter": "python",
   "pygments_lexer": "ipython3",
   "version": "3.8.8"
  }
 },
 "nbformat": 4,
 "nbformat_minor": 5
}
