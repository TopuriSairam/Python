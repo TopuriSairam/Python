{
 "cells": [
  {
   "cell_type": "markdown",
   "id": "28e62c11",
   "metadata": {},
   "source": [
    "# 1.Write a program to demonstrate different number data types in Python. "
   ]
  },
  {
   "cell_type": "code",
   "execution_count": 1,
   "id": "92eb02c5",
   "metadata": {},
   "outputs": [
    {
     "name": "stdout",
     "output_type": "stream",
     "text": [
      "a is type of <class 'str'>\n",
      "b is type of <class 'int'>\n",
      "c is type of <class 'float'>\n",
      "d is type of <class 'complex'>\n",
      "f is type of <class 'bool'>\n"
     ]
    }
   ],
   "source": [
    "a = 'Sai'\n",
    "b = 2\n",
    "c = 4.0\n",
    "d = 7j\n",
    "f = True\n",
    "print('a is type of',type(a))\n",
    "print('b is type of',type(b))\n",
    "print('c is type of',type(c))\n",
    "print('d is type of',type(d))\n",
    "print('f is type of',type(f))"
   ]
  },
  {
   "cell_type": "code",
   "execution_count": null,
   "id": "b35d4893",
   "metadata": {},
   "outputs": [],
   "source": []
  },
  {
   "cell_type": "markdown",
   "id": "0e6254cb",
   "metadata": {},
   "source": [
    "# 2. Write a program to perform different Arithmetic Operations on  numbers in Python.\n",
    " "
   ]
  },
  {
   "cell_type": "code",
   "execution_count": 3,
   "id": "4a1e619e",
   "metadata": {},
   "outputs": [
    {
     "name": "stdout",
     "output_type": "stream",
     "text": [
      "Enter a value3\n",
      "Enter b value2\n",
      "Addition of a and b is 5\n",
      "Subtraction of a and b is 1\n",
      "Multiplication of a and b is 6\n",
      "Division of a and b is 1.5\n",
      "Remainder of a and b is 1\n",
      "Exponent of a and b is 9\n",
      "Floar division of a and b is 1\n"
     ]
    }
   ],
   "source": [
    "a = int(input('Enter a value'))\n",
    "b = int(input('Enter b value'))\n",
    "print('Addition of a and b is',a + b)\n",
    "print('Subtraction of a and b is',a - b)\n",
    "print('Multiplication of a and b is',a * b)\n",
    "print('Division of a and b is',a / b)\n",
    "print('Remainder of a and b is',a % b)\n",
    "print('Exponent of a and b is',a ** b)\n",
    "print('Floar division of a and b is',a // b)"
   ]
  },
  {
   "cell_type": "markdown",
   "id": "a6a8207b",
   "metadata": {},
   "source": []
  },
  {
   "cell_type": "markdown",
   "id": "a382eab6",
   "metadata": {},
   "source": [
    "# 3. Write a program to create, concatenate and print a string and accessing sub-string from a given string."
   ]
  },
  {
   "cell_type": "code",
   "execution_count": 4,
   "id": "f51839a3",
   "metadata": {},
   "outputs": [
    {
     "name": "stdout",
     "output_type": "stream",
     "text": [
      "Enter First String : Computer\n",
      "Enter Second String : Science\n",
      "First String is :  Computer\n",
      "Secoond String is :  Science\n",
      "Concatenation of Two Strings is :  ComputerScience\n",
      "Substring of given string is :  omp\n"
     ]
    }
   ],
   "source": [
    "s1 = input('Enter First String : ')\n",
    "s2 = input('Enter Second String : ')\n",
    "print('First String is : ', s1)\n",
    "print('Secoond String is : ', s2)\n",
    "print('Concatenation of Two Strings is : ', s1+s2)\n",
    "print('Substring of given string is : ', s1[1:4])"
   ]
  },
  {
   "cell_type": "code",
   "execution_count": null,
   "id": "e94615d8",
   "metadata": {},
   "outputs": [],
   "source": []
  },
  {
   "cell_type": "markdown",
   "id": "f3473506",
   "metadata": {},
   "source": [
    "# 4. Write a python script to print the current date in the following format  “Sun May 29 02:26:23 IST 2017” "
   ]
  },
  {
   "cell_type": "code",
   "execution_count": 10,
   "id": "1f8038c1",
   "metadata": {},
   "outputs": [
    {
     "name": "stdout",
     "output_type": "stream",
     "text": [
      "Mon Dec 20 11:52:57 India Standard Time 2021\n"
     ]
    }
   ],
   "source": [
    "import time\n",
    "ltime = time.localtime()\n",
    "print(time.strftime('%a %b %d %H:%M:%S %Z %Y',ltime))\n",
    "\n",
    "\n",
    "#%a : abbreviated weekday name\n",
    "#%b : abbreviated Month name\n",
    "#%d : Date of month as decimal number [01,31]\n",
    "#%H : Hour (24 hour clock) as decimal number [00,23]\n",
    "#%M : Minute as a Decimal number [00,59]\n",
    "#%S : Second as a Decimal number [00,61]\n",
    "#%Z : Time zone name\n",
    "#%Y : Year with century as a decimal number \n"
   ]
  },
  {
   "cell_type": "code",
   "execution_count": null,
   "id": "1c84ecd3",
   "metadata": {},
   "outputs": [],
   "source": []
  },
  {
   "cell_type": "markdown",
   "id": "466c0216",
   "metadata": {},
   "source": [
    "# 5. Write a program to create, append, and remove lists in python."
   ]
  },
  {
   "cell_type": "code",
   "execution_count": 11,
   "id": "6dd80b4b",
   "metadata": {},
   "outputs": [
    {
     "data": {
      "text/plain": [
       "list"
      ]
     },
     "execution_count": 11,
     "metadata": {},
     "output_type": "execute_result"
    }
   ],
   "source": [
    "my_list = [1,'sai', 3.0]\n",
    "type(my_list)"
   ]
  },
  {
   "cell_type": "code",
   "execution_count": 13,
   "id": "386c6e4a",
   "metadata": {},
   "outputs": [
    {
     "name": "stdout",
     "output_type": "stream",
     "text": [
      "[1, 3, 5, 7]\n"
     ]
    }
   ],
   "source": [
    "odd = [1, 3, 5]\n",
    "odd.append(7)\n",
    "print(odd)"
   ]
  },
  {
   "cell_type": "code",
   "execution_count": 14,
   "id": "021fed8b",
   "metadata": {},
   "outputs": [
    {
     "name": "stdout",
     "output_type": "stream",
     "text": [
      "[1, 3, 5, 7, 9, 11, 13]\n"
     ]
    }
   ],
   "source": [
    "odd.extend([9,11,13])\n",
    "print(odd)"
   ]
  },
  {
   "cell_type": "code",
   "execution_count": 15,
   "id": "bfced3f9",
   "metadata": {},
   "outputs": [
    {
     "name": "stdout",
     "output_type": "stream",
     "text": [
      "['p', 'q', 's', 't', 'u']\n"
     ]
    }
   ],
   "source": [
    "my_list = ['p','q','r','s','t','u']\n",
    "del my_list[2]\n",
    "print(my_list)"
   ]
  },
  {
   "cell_type": "code",
   "execution_count": 17,
   "id": "34d21f1b",
   "metadata": {},
   "outputs": [
    {
     "name": "stdout",
     "output_type": "stream",
     "text": [
      "['p']\n"
     ]
    }
   ],
   "source": [
    "del my_list[1:5]\n",
    "print(my_list)"
   ]
  },
  {
   "cell_type": "code",
   "execution_count": null,
   "id": "13dae0fe",
   "metadata": {},
   "outputs": [],
   "source": []
  },
  {
   "cell_type": "markdown",
   "id": "8af8e728",
   "metadata": {},
   "source": [
    "# 6. Write a program to demonstrate working with tuples in python."
   ]
  },
  {
   "cell_type": "code",
   "execution_count": 23,
   "id": "91469a8a",
   "metadata": {},
   "outputs": [
    {
     "data": {
      "text/plain": [
       "tuple"
      ]
     },
     "execution_count": 23,
     "metadata": {},
     "output_type": "execute_result"
    }
   ],
   "source": [
    "# Different types of tuples\n",
    "\n",
    "#empty tuple\n",
    "my_tuple = ()\n",
    "type(my_tuple)\n",
    "\n",
    "#tuple having integers\n",
    "my_tuple1 = (1,2,3)\n",
    "type(my_tuple1)\n",
    "\n",
    "# tuple with mixed data types\n",
    "my_tuple2 = (1,'sai', 3.0)\n",
    "type(my_tuple2)\n",
    "\n",
    "# Nested tuple\n",
    "my_tuple3 = ('mouse',[8,4,6],(2,3,4))\n",
    "type(my_tuple3)"
   ]
  },
  {
   "cell_type": "code",
   "execution_count": 2,
   "id": "7feb97db",
   "metadata": {},
   "outputs": [
    {
     "name": "stdout",
     "output_type": "stream",
     "text": [
      "<class 'tuple'>\n"
     ]
    }
   ],
   "source": [
    "my_tuple = 3,4.6,'dog'\n",
    "print(type(my_tuple))"
   ]
  },
  {
   "cell_type": "code",
   "execution_count": 4,
   "id": "a8707007",
   "metadata": {},
   "outputs": [
    {
     "name": "stdout",
     "output_type": "stream",
     "text": [
      "3\n",
      "4.6\n",
      "dog\n"
     ]
    }
   ],
   "source": [
    "#tuple unpacking also available\n",
    "a , b, c = my_tuple\n",
    "print(a)\n",
    "print(b)\n",
    "print(c)"
   ]
  },
  {
   "cell_type": "code",
   "execution_count": 5,
   "id": "4f1965a7",
   "metadata": {},
   "outputs": [
    {
     "name": "stdout",
     "output_type": "stream",
     "text": [
      "<class 'str'>\n"
     ]
    }
   ],
   "source": [
    "my_tuple =( 'Hello')\n",
    "print(type(my_tuple))"
   ]
  },
  {
   "cell_type": "code",
   "execution_count": 6,
   "id": "586cd761",
   "metadata": {},
   "outputs": [
    {
     "name": "stdout",
     "output_type": "stream",
     "text": [
      "<class 'tuple'>\n"
     ]
    }
   ],
   "source": [
    "my_tuple =( 'Hello',)\n",
    "print(type(my_tuple))"
   ]
  },
  {
   "cell_type": "code",
   "execution_count": 7,
   "id": "fc79bebc",
   "metadata": {},
   "outputs": [
    {
     "name": "stdout",
     "output_type": "stream",
     "text": [
      "<class 'tuple'>\n"
     ]
    }
   ],
   "source": [
    "#paranthesis s optional\n",
    "my_tuple = 'Hello',\n",
    "print(type(my_tuple))"
   ]
  },
  {
   "cell_type": "code",
   "execution_count": null,
   "id": "4bb9e6a9",
   "metadata": {},
   "outputs": [],
   "source": []
  },
  {
   "cell_type": "markdown",
   "id": "6591b30a",
   "metadata": {},
   "source": [
    "# 7. Write a program to demonstrate working with dictionaries in python"
   ]
  },
  {
   "cell_type": "code",
   "execution_count": 9,
   "id": "97634163",
   "metadata": {},
   "outputs": [],
   "source": [
    "#empty dictionary\n",
    "my_dict = {}\n",
    "#dictionary with integer keys\n",
    "my_dict = {1:'apple',2:'ball'}\n",
    "#dictionary with mixed keys\n",
    "my_dict = {'Name':'John',1:[2,4,3]}\n",
    "#using dict\n",
    "my_dict = dict({1:'apple',2:'ball'})\n"
   ]
  },
  {
   "cell_type": "code",
   "execution_count": 10,
   "id": "4cc416b0",
   "metadata": {},
   "outputs": [
    {
     "name": "stdout",
     "output_type": "stream",
     "text": [
      "John\n"
     ]
    }
   ],
   "source": [
    "# get vs [] for retriving elements\n",
    "my_dict = {'Name':'John', 'age':26}\n",
    "print(my_dict['Name'])"
   ]
  },
  {
   "cell_type": "code",
   "execution_count": 11,
   "id": "b2fc66db",
   "metadata": {},
   "outputs": [
    {
     "name": "stdout",
     "output_type": "stream",
     "text": [
      "26\n"
     ]
    }
   ],
   "source": [
    "print(my_dict.get('age'))"
   ]
  },
  {
   "cell_type": "code",
   "execution_count": null,
   "id": "5ac613da",
   "metadata": {},
   "outputs": [],
   "source": []
  },
  {
   "cell_type": "markdown",
   "id": "6fa733b6",
   "metadata": {},
   "source": [
    "# 8. Write a python program to find largest of three numbers."
   ]
  },
  {
   "cell_type": "code",
   "execution_count": 12,
   "id": "ad82b823",
   "metadata": {},
   "outputs": [
    {
     "name": "stdout",
     "output_type": "stream",
     "text": [
      "Largest number is 19\n"
     ]
    }
   ],
   "source": [
    "num1 = 10\n",
    "num2 = 15\n",
    "num3 = 19\n",
    "\n",
    "if (num1 >= num2) and (num1 >= num3):\n",
    "    largest = num1\n",
    "elif (num2>= num3) and (num2 >= num1):\n",
    "    largest = num2\n",
    "else :\n",
    "    largest = num3\n",
    "    \n",
    "print('Largest number is',largest)    \n"
   ]
  },
  {
   "cell_type": "code",
   "execution_count": null,
   "id": "8100277b",
   "metadata": {},
   "outputs": [],
   "source": []
  },
  {
   "cell_type": "markdown",
   "id": "25239ac5",
   "metadata": {},
   "source": [
    "# 9. Write a Python program to convert temperatures to and from Celsius, Fahrenheit. [ Formula: c = (f-32)(5/9)]"
   ]
  },
  {
   "cell_type": "code",
   "execution_count": 2,
   "id": "b549776f",
   "metadata": {},
   "outputs": [
    {
     "name": "stdout",
     "output_type": "stream",
     "text": [
      "Enter Temperature : 38\n",
      "Enter unit('C' for celsius or 'F' for fahrenheit): c\n",
      "Temperature in fahrenheit =  100.4\n"
     ]
    }
   ],
   "source": [
    "temp = float(input('Enter Temperature : '))\n",
    "unit = input(\"Enter unit('C' for celsius or 'F' for fahrenheit): \")\n",
    "\n",
    "if unit == 'C' or unit == 'c':\n",
    "    newTemp = 9/5 * temp + 32\n",
    "    print(\"Temperature in fahrenheit = \", newTemp)\n",
    "elif  unit == 'F' or unit == 'f':\n",
    "    newTemp = 5/9 * temp -32\n",
    "    print(\"Temperature in celsius = \", newTemp)    \n",
    "else :\n",
    "    print('Unknown unit ', unit)"
   ]
  },
  {
   "cell_type": "code",
   "execution_count": null,
   "id": "7dbf4941",
   "metadata": {},
   "outputs": [],
   "source": []
  },
  {
   "cell_type": "markdown",
   "id": "965b9e3a",
   "metadata": {},
   "source": [
    "# 10. Write a Python program to construct the following pattern, using a nested for loop.\n"
   ]
  },
  {
   "cell_type": "code",
   "execution_count": null,
   "id": "c5b0f5bd",
   "metadata": {},
   "outputs": [],
   "source": [
    "*\n",
    "**\n",
    "***\n",
    "****\n",
    "*****\n",
    "****\n",
    "***\n",
    "**\n",
    "*"
   ]
  },
  {
   "cell_type": "code",
   "execution_count": 3,
   "id": "8f1fc140",
   "metadata": {},
   "outputs": [
    {
     "name": "stdout",
     "output_type": "stream",
     "text": [
      "\n",
      "*\n",
      "**\n",
      "***\n",
      "****\n",
      "*****\n",
      "****\n",
      "***\n",
      "**\n",
      "*\n"
     ]
    }
   ],
   "source": [
    "n = 5\n",
    "for i in range (n):\n",
    "    for j in range (i):\n",
    "        print('*',end =\"\")\n",
    "    print('')  \n",
    "for i in range (n,0,-1):\n",
    "    for j in range (i):\n",
    "        print('*',end =\"\")\n",
    "    print('') "
   ]
  },
  {
   "cell_type": "code",
   "execution_count": null,
   "id": "6f875c9d",
   "metadata": {},
   "outputs": [],
   "source": []
  },
  {
   "cell_type": "markdown",
   "id": "36e52a78",
   "metadata": {},
   "source": [
    "# 11. Write a Python script that prints prime numbers less than 20."
   ]
  },
  {
   "cell_type": "code",
   "execution_count": 19,
   "id": "7a034369",
   "metadata": {},
   "outputs": [
    {
     "name": "stdout",
     "output_type": "stream",
     "text": [
      "Enter lower range : 1\n",
      "Enter upper range : 20\n",
      "2\n",
      "3\n",
      "5\n",
      "7\n",
      "11\n",
      "13\n",
      "17\n",
      "19\n"
     ]
    }
   ],
   "source": [
    "# take input from user\n",
    "lower = int(input(\"Enter lower range : \"))\n",
    "upper = int(input(\"Enter upper range : \"))\n",
    "\n",
    "for num in range (lower,upper +1) :\n",
    "    if num > 1:\n",
    "        for i in range(2,num):\n",
    "            if (num % i )== 0  :\n",
    "                break\n",
    "        else :\n",
    "            print(num)\n",
    "            "
   ]
  },
  {
   "cell_type": "code",
   "execution_count": null,
   "id": "beece611",
   "metadata": {},
   "outputs": [],
   "source": []
  },
  {
   "cell_type": "markdown",
   "id": "b4159a65",
   "metadata": {},
   "source": [
    "# 12. Write a python program to find factorial of a number using Recursion."
   ]
  },
  {
   "cell_type": "code",
   "execution_count": 22,
   "id": "039bf1e8",
   "metadata": {},
   "outputs": [
    {
     "name": "stdout",
     "output_type": "stream",
     "text": [
      "Enter a number: 6\n",
      "Factorial of 6 is 720\n"
     ]
    }
   ],
   "source": [
    "def recur_factorial (n):\n",
    "    if n == 1:\n",
    "        return n\n",
    "    else:\n",
    "        return n*recur_factorial (n-1)\n",
    "    \n",
    "# take input from the user\n",
    "num = int(input('Enter a number: '))\n",
    "\n",
    "#check number is negative\n",
    "if num < 0:\n",
    "    print('Sorry, factorial does not exist for negative numbers')\n",
    "elif num == 0:\n",
    "    print('Factorial of 0 is 1')\n",
    "else:\n",
    "    print('Factorial of',num, 'is', recur_factorial (num))\n",
    "        "
   ]
  },
  {
   "cell_type": "code",
   "execution_count": null,
   "id": "2fcf7f47",
   "metadata": {},
   "outputs": [],
   "source": []
  },
  {
   "cell_type": "markdown",
   "id": "cfa7c9aa",
   "metadata": {},
   "source": [
    "# 13. Write a program that accepts the lengths of three sides of a triangleas inputs. The program output should indicate whether or not the triangle is a right triangle (Recall from the Pythagorean Theorem that in a right triangle, the square of one side equals the sum of the squares of the other two sides)."
   ]
  },
  {
   "cell_type": "code",
   "execution_count": 23,
   "id": "44a1e4b3",
   "metadata": {},
   "outputs": [
    {
     "name": "stdout",
     "output_type": "stream",
     "text": [
      "Enter length of base : 3\n",
      "Enter length of Perpendiclar : 4\n",
      "Enter length of Hypotenuse : 5\n",
      "It's a Right angle traingle\n"
     ]
    }
   ],
   "source": [
    "base = float(input('Enter length of base : '))\n",
    "perp = float(input('Enter length of Perpendiclar : '))\n",
    "hypo = float(input('Enter length of Hypotenuse : '))\n",
    "\n",
    "if hypo ** 2 == ((base ** 2) + (perp ** 2)):\n",
    "    print (\"It's a Right angle traingle\")\n",
    "else :\n",
    "     print (\"It's not a Right angle traingle\")"
   ]
  },
  {
   "cell_type": "code",
   "execution_count": null,
   "id": "97c888c7",
   "metadata": {},
   "outputs": [],
   "source": []
  }
 ],
 "metadata": {
  "kernelspec": {
   "display_name": "Python 3",
   "language": "python",
   "name": "python3"
  },
  "language_info": {
   "codemirror_mode": {
    "name": "ipython",
    "version": 3
   },
   "file_extension": ".py",
   "mimetype": "text/x-python",
   "name": "python",
   "nbconvert_exporter": "python",
   "pygments_lexer": "ipython3",
   "version": "3.8.8"
  }
 },
 "nbformat": 4,
 "nbformat_minor": 5
}
