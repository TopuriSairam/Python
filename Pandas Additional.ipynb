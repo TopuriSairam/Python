{
 "cells": [
  {
   "cell_type": "markdown",
   "id": "96517f30",
   "metadata": {},
   "source": [
    "# Indexing Dataframes"
   ]
  },
  {
   "cell_type": "code",
   "execution_count": 1,
   "id": "39219a1d",
   "metadata": {},
   "outputs": [],
   "source": [
    "#importing pandas library\n",
    "import pandas as pd"
   ]
  },
  {
   "cell_type": "code",
   "execution_count": 2,
   "id": "ae20f8b4",
   "metadata": {},
   "outputs": [
    {
     "data": {
      "text/html": [
       "<div>\n",
       "<style scoped>\n",
       "    .dataframe tbody tr th:only-of-type {\n",
       "        vertical-align: middle;\n",
       "    }\n",
       "\n",
       "    .dataframe tbody tr th {\n",
       "        vertical-align: top;\n",
       "    }\n",
       "\n",
       "    .dataframe thead th {\n",
       "        text-align: right;\n",
       "    }\n",
       "</style>\n",
       "<table border=\"1\" class=\"dataframe\">\n",
       "  <thead>\n",
       "    <tr style=\"text-align: right;\">\n",
       "      <th></th>\n",
       "      <th>Names</th>\n",
       "      <th>Marks</th>\n",
       "      <th>Grade</th>\n",
       "    </tr>\n",
       "  </thead>\n",
       "  <tbody>\n",
       "    <tr>\n",
       "      <th>0</th>\n",
       "      <td>sai</td>\n",
       "      <td>45</td>\n",
       "      <td>A</td>\n",
       "    </tr>\n",
       "    <tr>\n",
       "      <th>1</th>\n",
       "      <td>ajay</td>\n",
       "      <td>20</td>\n",
       "      <td>D</td>\n",
       "    </tr>\n",
       "    <tr>\n",
       "      <th>2</th>\n",
       "      <td>ramu</td>\n",
       "      <td>46</td>\n",
       "      <td>A</td>\n",
       "    </tr>\n",
       "    <tr>\n",
       "      <th>3</th>\n",
       "      <td>somu</td>\n",
       "      <td>29</td>\n",
       "      <td>B</td>\n",
       "    </tr>\n",
       "  </tbody>\n",
       "</table>\n",
       "</div>"
      ],
      "text/plain": [
       "  Names  Marks Grade\n",
       "0   sai     45     A\n",
       "1  ajay     20     D\n",
       "2  ramu     46     A\n",
       "3  somu     29     B"
      ]
     },
     "execution_count": 2,
     "metadata": {},
     "output_type": "execute_result"
    }
   ],
   "source": [
    "#Creating Samole Dataframe\n",
    "column1 = ['sai','ajay','ramu','somu']\n",
    "column2 = [45,20,46,29]\n",
    "column3 = ['A','D','A','B']\n",
    "\n",
    "df = pd.DataFrame({'Names': column1,'Marks': column2,'Grade': column3})\n",
    "df"
   ]
  },
  {
   "cell_type": "markdown",
   "id": "337751f0",
   "metadata": {},
   "source": [
    "### Let's access rows from index 1 to index 3 "
   ]
  },
  {
   "cell_type": "code",
   "execution_count": 3,
   "id": "c53b2937",
   "metadata": {},
   "outputs": [
    {
     "data": {
      "text/html": [
       "<div>\n",
       "<style scoped>\n",
       "    .dataframe tbody tr th:only-of-type {\n",
       "        vertical-align: middle;\n",
       "    }\n",
       "\n",
       "    .dataframe tbody tr th {\n",
       "        vertical-align: top;\n",
       "    }\n",
       "\n",
       "    .dataframe thead th {\n",
       "        text-align: right;\n",
       "    }\n",
       "</style>\n",
       "<table border=\"1\" class=\"dataframe\">\n",
       "  <thead>\n",
       "    <tr style=\"text-align: right;\">\n",
       "      <th></th>\n",
       "      <th>Names</th>\n",
       "      <th>Marks</th>\n",
       "      <th>Grade</th>\n",
       "    </tr>\n",
       "  </thead>\n",
       "  <tbody>\n",
       "    <tr>\n",
       "      <th>1</th>\n",
       "      <td>ajay</td>\n",
       "      <td>20</td>\n",
       "      <td>D</td>\n",
       "    </tr>\n",
       "    <tr>\n",
       "      <th>2</th>\n",
       "      <td>ramu</td>\n",
       "      <td>46</td>\n",
       "      <td>A</td>\n",
       "    </tr>\n",
       "    <tr>\n",
       "      <th>3</th>\n",
       "      <td>somu</td>\n",
       "      <td>29</td>\n",
       "      <td>B</td>\n",
       "    </tr>\n",
       "  </tbody>\n",
       "</table>\n",
       "</div>"
      ],
      "text/plain": [
       "  Names  Marks Grade\n",
       "1  ajay     20     D\n",
       "2  ramu     46     A\n",
       "3  somu     29     B"
      ]
     },
     "execution_count": 3,
     "metadata": {},
     "output_type": "execute_result"
    }
   ],
   "source": [
    "df.iloc[1:4]"
   ]
  },
  {
   "cell_type": "markdown",
   "id": "c3a67006",
   "metadata": {},
   "source": [
    "### Let's get single column 'Names' from Dataframe "
   ]
  },
  {
   "cell_type": "code",
   "execution_count": 4,
   "id": "d33e934d",
   "metadata": {},
   "outputs": [
    {
     "data": {
      "text/plain": [
       "0     sai\n",
       "1    ajay\n",
       "2    ramu\n",
       "3    somu\n",
       "Name: Names, dtype: object"
      ]
     },
     "execution_count": 4,
     "metadata": {},
     "output_type": "execute_result"
    }
   ],
   "source": [
    "df['Names']"
   ]
  },
  {
   "cell_type": "markdown",
   "id": "fae0af1a",
   "metadata": {},
   "source": [
    "### Let's access Multiple columns 'Names' and 'Marks' from Dataframe "
   ]
  },
  {
   "cell_type": "code",
   "execution_count": 6,
   "id": "33d707de",
   "metadata": {},
   "outputs": [
    {
     "data": {
      "text/html": [
       "<div>\n",
       "<style scoped>\n",
       "    .dataframe tbody tr th:only-of-type {\n",
       "        vertical-align: middle;\n",
       "    }\n",
       "\n",
       "    .dataframe tbody tr th {\n",
       "        vertical-align: top;\n",
       "    }\n",
       "\n",
       "    .dataframe thead th {\n",
       "        text-align: right;\n",
       "    }\n",
       "</style>\n",
       "<table border=\"1\" class=\"dataframe\">\n",
       "  <thead>\n",
       "    <tr style=\"text-align: right;\">\n",
       "      <th></th>\n",
       "      <th>Names</th>\n",
       "      <th>Marks</th>\n",
       "    </tr>\n",
       "  </thead>\n",
       "  <tbody>\n",
       "    <tr>\n",
       "      <th>0</th>\n",
       "      <td>sai</td>\n",
       "      <td>45</td>\n",
       "    </tr>\n",
       "    <tr>\n",
       "      <th>1</th>\n",
       "      <td>ajay</td>\n",
       "      <td>20</td>\n",
       "    </tr>\n",
       "    <tr>\n",
       "      <th>2</th>\n",
       "      <td>ramu</td>\n",
       "      <td>46</td>\n",
       "    </tr>\n",
       "    <tr>\n",
       "      <th>3</th>\n",
       "      <td>somu</td>\n",
       "      <td>29</td>\n",
       "    </tr>\n",
       "  </tbody>\n",
       "</table>\n",
       "</div>"
      ],
      "text/plain": [
       "  Names  Marks\n",
       "0   sai     45\n",
       "1  ajay     20\n",
       "2  ramu     46\n",
       "3  somu     29"
      ]
     },
     "execution_count": 6,
     "metadata": {},
     "output_type": "execute_result"
    }
   ],
   "source": [
    "df[['Names','Marks']]"
   ]
  },
  {
   "cell_type": "markdown",
   "id": "a5b0ef7d",
   "metadata": {},
   "source": [
    "### Let's get marks and grade scored by student 'Ramu'"
   ]
  },
  {
   "cell_type": "code",
   "execution_count": 8,
   "id": "53a067f7",
   "metadata": {},
   "outputs": [
    {
     "data": {
      "text/plain": [
       "Marks    46\n",
       "Grade     A\n",
       "Name: 2, dtype: object"
      ]
     },
     "execution_count": 8,
     "metadata": {},
     "output_type": "execute_result"
    }
   ],
   "source": [
    "# method 1\n",
    "df.iloc[2][['Marks','Grade']]"
   ]
  },
  {
   "cell_type": "code",
   "execution_count": 12,
   "id": "59adcf67",
   "metadata": {},
   "outputs": [
    {
     "data": {
      "text/html": [
       "<div>\n",
       "<style scoped>\n",
       "    .dataframe tbody tr th:only-of-type {\n",
       "        vertical-align: middle;\n",
       "    }\n",
       "\n",
       "    .dataframe tbody tr th {\n",
       "        vertical-align: top;\n",
       "    }\n",
       "\n",
       "    .dataframe thead th {\n",
       "        text-align: right;\n",
       "    }\n",
       "</style>\n",
       "<table border=\"1\" class=\"dataframe\">\n",
       "  <thead>\n",
       "    <tr style=\"text-align: right;\">\n",
       "      <th></th>\n",
       "      <th>Marks</th>\n",
       "      <th>Grade</th>\n",
       "    </tr>\n",
       "  </thead>\n",
       "  <tbody>\n",
       "    <tr>\n",
       "      <th>2</th>\n",
       "      <td>46</td>\n",
       "      <td>A</td>\n",
       "    </tr>\n",
       "  </tbody>\n",
       "</table>\n",
       "</div>"
      ],
      "text/plain": [
       "   Marks Grade\n",
       "2     46     A"
      ]
     },
     "execution_count": 12,
     "metadata": {},
     "output_type": "execute_result"
    }
   ],
   "source": [
    "# method 2\n",
    "df[df['Names'] == 'ramu'][['Marks','Grade']]"
   ]
  },
  {
   "cell_type": "code",
   "execution_count": null,
   "id": "507cde1c",
   "metadata": {},
   "outputs": [],
   "source": []
  },
  {
   "cell_type": "markdown",
   "id": "dcd0ee26",
   "metadata": {},
   "source": [
    "## Inroduction to .loc for accessing Rows"
   ]
  },
  {
   "cell_type": "markdown",
   "id": "24b0d8d1",
   "metadata": {},
   "source": [
    "Note:\n",
    "\n",
    ".loc() is used while accessing labels and .iloc() used index position  "
   ]
  },
  {
   "cell_type": "code",
   "execution_count": 13,
   "id": "1ae99114",
   "metadata": {},
   "outputs": [
    {
     "data": {
      "text/html": [
       "<div>\n",
       "<style scoped>\n",
       "    .dataframe tbody tr th:only-of-type {\n",
       "        vertical-align: middle;\n",
       "    }\n",
       "\n",
       "    .dataframe tbody tr th {\n",
       "        vertical-align: top;\n",
       "    }\n",
       "\n",
       "    .dataframe thead th {\n",
       "        text-align: right;\n",
       "    }\n",
       "</style>\n",
       "<table border=\"1\" class=\"dataframe\">\n",
       "  <thead>\n",
       "    <tr style=\"text-align: right;\">\n",
       "      <th></th>\n",
       "      <th>Names</th>\n",
       "      <th>Marks</th>\n",
       "      <th>Grade</th>\n",
       "    </tr>\n",
       "  </thead>\n",
       "  <tbody>\n",
       "    <tr>\n",
       "      <th>a</th>\n",
       "      <td>sai</td>\n",
       "      <td>45</td>\n",
       "      <td>A</td>\n",
       "    </tr>\n",
       "    <tr>\n",
       "      <th>b</th>\n",
       "      <td>ajay</td>\n",
       "      <td>20</td>\n",
       "      <td>D</td>\n",
       "    </tr>\n",
       "    <tr>\n",
       "      <th>c</th>\n",
       "      <td>ramu</td>\n",
       "      <td>46</td>\n",
       "      <td>A</td>\n",
       "    </tr>\n",
       "    <tr>\n",
       "      <th>d</th>\n",
       "      <td>somu</td>\n",
       "      <td>29</td>\n",
       "      <td>B</td>\n",
       "    </tr>\n",
       "  </tbody>\n",
       "</table>\n",
       "</div>"
      ],
      "text/plain": [
       "  Names  Marks Grade\n",
       "a   sai     45     A\n",
       "b  ajay     20     D\n",
       "c  ramu     46     A\n",
       "d  somu     29     B"
      ]
     },
     "execution_count": 13,
     "metadata": {},
     "output_type": "execute_result"
    }
   ],
   "source": [
    "# Let's change the row index to custom labels \n",
    "df.index = ['a','b','c','d']\n",
    "df"
   ]
  },
  {
   "cell_type": "markdown",
   "id": "dcb95182",
   "metadata": {},
   "source": [
    "### Let's access the row having name 'Ramu'  "
   ]
  },
  {
   "cell_type": "code",
   "execution_count": 14,
   "id": "e209fd70",
   "metadata": {},
   "outputs": [
    {
     "data": {
      "text/plain": [
       "Names    ramu\n",
       "Marks      46\n",
       "Grade       A\n",
       "Name: c, dtype: object"
      ]
     },
     "execution_count": 14,
     "metadata": {},
     "output_type": "execute_result"
    }
   ],
   "source": [
    "#using label\n",
    "df.loc['c']"
   ]
  },
  {
   "cell_type": "code",
   "execution_count": 16,
   "id": "073e96be",
   "metadata": {},
   "outputs": [
    {
     "data": {
      "text/plain": [
       "Names    ramu\n",
       "Marks      46\n",
       "Grade       A\n",
       "Name: c, dtype: object"
      ]
     },
     "execution_count": 16,
     "metadata": {},
     "output_type": "execute_result"
    }
   ],
   "source": [
    "#using index\n",
    "df.iloc[2]"
   ]
  },
  {
   "cell_type": "markdown",
   "id": "c013bf07",
   "metadata": {},
   "source": [
    "### Let's get marks and grade of student 'ajay'"
   ]
  },
  {
   "cell_type": "code",
   "execution_count": 17,
   "id": "7107f238",
   "metadata": {},
   "outputs": [
    {
     "data": {
      "text/plain": [
       "Marks    20\n",
       "Grade     D\n",
       "Name: b, dtype: object"
      ]
     },
     "execution_count": 17,
     "metadata": {},
     "output_type": "execute_result"
    }
   ],
   "source": [
    "#using label\n",
    "df.loc['b'][['Marks','Grade']]"
   ]
  },
  {
   "cell_type": "code",
   "execution_count": 18,
   "id": "66fbfb4a",
   "metadata": {},
   "outputs": [
    {
     "data": {
      "text/plain": [
       "Marks    20\n",
       "Grade     D\n",
       "Name: b, dtype: object"
      ]
     },
     "execution_count": 18,
     "metadata": {},
     "output_type": "execute_result"
    }
   ],
   "source": [
    "#using index\n",
    "df.iloc[1][['Marks','Grade']]"
   ]
  },
  {
   "cell_type": "code",
   "execution_count": null,
   "id": "5d0492fb",
   "metadata": {},
   "outputs": [],
   "source": []
  },
  {
   "cell_type": "markdown",
   "id": "963b013d",
   "metadata": {},
   "source": [
    "# Pandas Concatenation  "
   ]
  },
  {
   "cell_type": "markdown",
   "id": "ca09eeec",
   "metadata": {},
   "source": [
    "### Key point:\n",
    "1.It will helps to concatenate two dataframes either vertically or horizontally."
   ]
  },
  {
   "cell_type": "code",
   "execution_count": 19,
   "id": "e7e95d32",
   "metadata": {},
   "outputs": [],
   "source": [
    "#importing pandas library\n",
    "import pandas as pd"
   ]
  },
  {
   "cell_type": "code",
   "execution_count": 21,
   "id": "a6e7ce43",
   "metadata": {},
   "outputs": [
    {
     "data": {
      "text/html": [
       "<div>\n",
       "<style scoped>\n",
       "    .dataframe tbody tr th:only-of-type {\n",
       "        vertical-align: middle;\n",
       "    }\n",
       "\n",
       "    .dataframe tbody tr th {\n",
       "        vertical-align: top;\n",
       "    }\n",
       "\n",
       "    .dataframe thead th {\n",
       "        text-align: right;\n",
       "    }\n",
       "</style>\n",
       "<table border=\"1\" class=\"dataframe\">\n",
       "  <thead>\n",
       "    <tr style=\"text-align: right;\">\n",
       "      <th></th>\n",
       "      <th>Names</th>\n",
       "    </tr>\n",
       "  </thead>\n",
       "  <tbody>\n",
       "    <tr>\n",
       "      <th>0</th>\n",
       "      <td>Rahul</td>\n",
       "    </tr>\n",
       "    <tr>\n",
       "      <th>1</th>\n",
       "      <td>Ajay</td>\n",
       "    </tr>\n",
       "    <tr>\n",
       "      <th>2</th>\n",
       "      <td>Kiran</td>\n",
       "    </tr>\n",
       "    <tr>\n",
       "      <th>3</th>\n",
       "      <td>Mohan</td>\n",
       "    </tr>\n",
       "  </tbody>\n",
       "</table>\n",
       "</div>"
      ],
      "text/plain": [
       "   Names\n",
       "0  Rahul\n",
       "1   Ajay\n",
       "2  Kiran\n",
       "3  Mohan"
      ]
     },
     "execution_count": 21,
     "metadata": {},
     "output_type": "execute_result"
    }
   ],
   "source": [
    "#Let's create first dataframe\n",
    "column1 = ['Rahul','Ajay','Kiran','Mohan']\n",
    "df1 = pd.DataFrame({'Names': column1})\n",
    "df1"
   ]
  },
  {
   "cell_type": "code",
   "execution_count": 22,
   "id": "ff9a8a9a",
   "metadata": {},
   "outputs": [
    {
     "data": {
      "text/html": [
       "<div>\n",
       "<style scoped>\n",
       "    .dataframe tbody tr th:only-of-type {\n",
       "        vertical-align: middle;\n",
       "    }\n",
       "\n",
       "    .dataframe tbody tr th {\n",
       "        vertical-align: top;\n",
       "    }\n",
       "\n",
       "    .dataframe thead th {\n",
       "        text-align: right;\n",
       "    }\n",
       "</style>\n",
       "<table border=\"1\" class=\"dataframe\">\n",
       "  <thead>\n",
       "    <tr style=\"text-align: right;\">\n",
       "      <th></th>\n",
       "      <th>Marks</th>\n",
       "    </tr>\n",
       "  </thead>\n",
       "  <tbody>\n",
       "    <tr>\n",
       "      <th>0</th>\n",
       "      <td>46</td>\n",
       "    </tr>\n",
       "    <tr>\n",
       "      <th>1</th>\n",
       "      <td>20</td>\n",
       "    </tr>\n",
       "    <tr>\n",
       "      <th>2</th>\n",
       "      <td>47</td>\n",
       "    </tr>\n",
       "    <tr>\n",
       "      <th>3</th>\n",
       "      <td>39</td>\n",
       "    </tr>\n",
       "  </tbody>\n",
       "</table>\n",
       "</div>"
      ],
      "text/plain": [
       "   Marks\n",
       "0     46\n",
       "1     20\n",
       "2     47\n",
       "3     39"
      ]
     },
     "execution_count": 22,
     "metadata": {},
     "output_type": "execute_result"
    }
   ],
   "source": [
    "#Let's create second dataframe\n",
    "column2 = [46,20,47,39]\n",
    "df2 = pd.DataFrame({'Marks': column2})\n",
    "df2"
   ]
  },
  {
   "cell_type": "markdown",
   "id": "ba0ca253",
   "metadata": {},
   "source": [
    "### Note:\n",
    "1.while concatenating two dataframes horizontally , both should have equal number of rows\n",
    "\n",
    "2.while concatenating two dataframes vertically , both should have equal number of columns and make sure that same names for columns in both dataframes.\n",
    "\n",
    "3.We use axis = 1 ,for concatenating horizontally(side by side) and axis = 0 for vertically."
   ]
  },
  {
   "cell_type": "markdown",
   "id": "3cc4104f",
   "metadata": {},
   "source": [
    "### Now let's concatenate two dataframes side by side"
   ]
  },
  {
   "cell_type": "code",
   "execution_count": 25,
   "id": "71a8d16f",
   "metadata": {},
   "outputs": [
    {
     "data": {
      "text/html": [
       "<div>\n",
       "<style scoped>\n",
       "    .dataframe tbody tr th:only-of-type {\n",
       "        vertical-align: middle;\n",
       "    }\n",
       "\n",
       "    .dataframe tbody tr th {\n",
       "        vertical-align: top;\n",
       "    }\n",
       "\n",
       "    .dataframe thead th {\n",
       "        text-align: right;\n",
       "    }\n",
       "</style>\n",
       "<table border=\"1\" class=\"dataframe\">\n",
       "  <thead>\n",
       "    <tr style=\"text-align: right;\">\n",
       "      <th></th>\n",
       "      <th>0</th>\n",
       "      <th>1</th>\n",
       "    </tr>\n",
       "  </thead>\n",
       "  <tbody>\n",
       "    <tr>\n",
       "      <th>0</th>\n",
       "      <td>Rahul</td>\n",
       "      <td>46</td>\n",
       "    </tr>\n",
       "    <tr>\n",
       "      <th>1</th>\n",
       "      <td>Ajay</td>\n",
       "      <td>20</td>\n",
       "    </tr>\n",
       "    <tr>\n",
       "      <th>2</th>\n",
       "      <td>Kiran</td>\n",
       "      <td>47</td>\n",
       "    </tr>\n",
       "    <tr>\n",
       "      <th>3</th>\n",
       "      <td>Mohan</td>\n",
       "      <td>39</td>\n",
       "    </tr>\n",
       "  </tbody>\n",
       "</table>\n",
       "</div>"
      ],
      "text/plain": [
       "       0   1\n",
       "0  Rahul  46\n",
       "1   Ajay  20\n",
       "2  Kiran  47\n",
       "3  Mohan  39"
      ]
     },
     "execution_count": 25,
     "metadata": {},
     "output_type": "execute_result"
    }
   ],
   "source": [
    "df3 = pd.concat([df1,df2],axis=1,ignore_index = True) #ignore_index = True will delete column names\n",
    "df3"
   ]
  },
  {
   "cell_type": "code",
   "execution_count": 26,
   "id": "266234d1",
   "metadata": {},
   "outputs": [
    {
     "data": {
      "text/html": [
       "<div>\n",
       "<style scoped>\n",
       "    .dataframe tbody tr th:only-of-type {\n",
       "        vertical-align: middle;\n",
       "    }\n",
       "\n",
       "    .dataframe tbody tr th {\n",
       "        vertical-align: top;\n",
       "    }\n",
       "\n",
       "    .dataframe thead th {\n",
       "        text-align: right;\n",
       "    }\n",
       "</style>\n",
       "<table border=\"1\" class=\"dataframe\">\n",
       "  <thead>\n",
       "    <tr style=\"text-align: right;\">\n",
       "      <th></th>\n",
       "      <th>Names</th>\n",
       "      <th>Marks</th>\n",
       "    </tr>\n",
       "  </thead>\n",
       "  <tbody>\n",
       "    <tr>\n",
       "      <th>0</th>\n",
       "      <td>Rahul</td>\n",
       "      <td>46</td>\n",
       "    </tr>\n",
       "    <tr>\n",
       "      <th>1</th>\n",
       "      <td>Ajay</td>\n",
       "      <td>20</td>\n",
       "    </tr>\n",
       "    <tr>\n",
       "      <th>2</th>\n",
       "      <td>Kiran</td>\n",
       "      <td>47</td>\n",
       "    </tr>\n",
       "    <tr>\n",
       "      <th>3</th>\n",
       "      <td>Mohan</td>\n",
       "      <td>39</td>\n",
       "    </tr>\n",
       "  </tbody>\n",
       "</table>\n",
       "</div>"
      ],
      "text/plain": [
       "   Names  Marks\n",
       "0  Rahul     46\n",
       "1   Ajay     20\n",
       "2  Kiran     47\n",
       "3  Mohan     39"
      ]
     },
     "execution_count": 26,
     "metadata": {},
     "output_type": "execute_result"
    }
   ],
   "source": [
    "df3 = pd.concat([df1,df2],axis=1)\n",
    "df3"
   ]
  },
  {
   "cell_type": "code",
   "execution_count": null,
   "id": "c325fbc8",
   "metadata": {},
   "outputs": [],
   "source": []
  },
  {
   "cell_type": "markdown",
   "id": "47f91d88",
   "metadata": {},
   "source": [
    "# Pandas Date Range"
   ]
  },
  {
   "cell_type": "code",
   "execution_count": 27,
   "id": "5812289b",
   "metadata": {},
   "outputs": [],
   "source": [
    "#importing pandas library\n",
    "import pandas as pd"
   ]
  },
  {
   "cell_type": "code",
   "execution_count": null,
   "id": "fa057d5c",
   "metadata": {},
   "outputs": [],
   "source": []
  },
  {
   "cell_type": "markdown",
   "id": "f6f960d3",
   "metadata": {},
   "source": [
    "### Note:\n",
    "1.Pandas date range are super useful for creating range of times or dates.\n",
    "\n",
    "2.It is mainly udes to reindexing our Datetime index."
   ]
  },
  {
   "cell_type": "code",
   "execution_count": null,
   "id": "1623d071",
   "metadata": {},
   "outputs": [],
   "source": []
  },
  {
   "cell_type": "markdown",
   "id": "54b2bfac",
   "metadata": {},
   "source": [
    "### Creating simple Daterange \n",
    "### Format:\n",
    " pd.date_range(start_time,end_time)"
   ]
  },
  {
   "cell_type": "markdown",
   "id": "a9f98ff8",
   "metadata": {},
   "source": [
    "#### Year-month-date "
   ]
  },
  {
   "cell_type": "code",
   "execution_count": 28,
   "id": "81695143",
   "metadata": {},
   "outputs": [
    {
     "data": {
      "text/plain": [
       "DatetimeIndex(['2021-01-01', '2021-01-02', '2021-01-03', '2021-01-04',\n",
       "               '2021-01-05', '2021-01-06'],\n",
       "              dtype='datetime64[ns]', freq='D')"
      ]
     },
     "execution_count": 28,
     "metadata": {},
     "output_type": "execute_result"
    }
   ],
   "source": [
    "pd.date_range(start = '2021-01-01', end ='2021-01-06',freq ='D')"
   ]
  },
  {
   "cell_type": "code",
   "execution_count": 29,
   "id": "eb2e01a0",
   "metadata": {},
   "outputs": [],
   "source": [
    "#here we created 6 dates as we have frequency ='Day'"
   ]
  },
  {
   "cell_type": "markdown",
   "id": "732f7d20",
   "metadata": {},
   "source": [
    "#### Creating a Date range in 6 minutes interval   \n",
    "Let's split date time in 6minutes interval"
   ]
  },
  {
   "cell_type": "code",
   "execution_count": 31,
   "id": "c6bf8298",
   "metadata": {},
   "outputs": [
    {
     "data": {
      "text/plain": [
       "DatetimeIndex(['2021-01-01 00:00:00', '2021-01-01 00:06:00',\n",
       "               '2021-01-01 00:12:00', '2021-01-01 00:18:00',\n",
       "               '2021-01-01 00:24:00'],\n",
       "              dtype='datetime64[ns]', freq='6T')"
      ]
     },
     "execution_count": 31,
     "metadata": {},
     "output_type": "execute_result"
    }
   ],
   "source": [
    "pd.date_range(start = '2021-01-01 00:00:00', end ='2021-01-01 00:24:00',freq ='6T')"
   ]
  },
  {
   "cell_type": "code",
   "execution_count": 32,
   "id": "a3557178",
   "metadata": {},
   "outputs": [],
   "source": [
    "#Here we have mentioned the starting date and ending date as same day as we want minute intervals\n",
    "#Also we have mentioned the [hours:minutes:seconds] and ending is 24 minutes."
   ]
  },
  {
   "cell_type": "code",
   "execution_count": null,
   "id": "923af85c",
   "metadata": {},
   "outputs": [],
   "source": []
  },
  {
   "cell_type": "markdown",
   "id": "44b451cc",
   "metadata": {},
   "source": [
    "### Creating Date range with 10 equal periods  "
   ]
  },
  {
   "cell_type": "code",
   "execution_count": 33,
   "id": "7bec2a74",
   "metadata": {},
   "outputs": [
    {
     "data": {
      "text/plain": [
       "DatetimeIndex(['2021-01-01 00:00:00', '2021-01-01 00:02:40',\n",
       "               '2021-01-01 00:05:20', '2021-01-01 00:08:00',\n",
       "               '2021-01-01 00:10:40', '2021-01-01 00:13:20',\n",
       "               '2021-01-01 00:16:00', '2021-01-01 00:18:40',\n",
       "               '2021-01-01 00:21:20', '2021-01-01 00:24:00'],\n",
       "              dtype='datetime64[ns]', freq=None)"
      ]
     },
     "execution_count": 33,
     "metadata": {},
     "output_type": "execute_result"
    }
   ],
   "source": [
    "pd.date_range(start = '2021-01-01 00:00:00', end ='2021-01-01 00:24:00',periods =10)"
   ]
  },
  {
   "cell_type": "code",
   "execution_count": 34,
   "id": "01a02579",
   "metadata": {},
   "outputs": [],
   "source": [
    "#Here we have equal time intervals between two adjacent date ranges and we have created 10 timestraps like this "
   ]
  },
  {
   "cell_type": "code",
   "execution_count": null,
   "id": "e3793461",
   "metadata": {},
   "outputs": [],
   "source": []
  },
  {
   "cell_type": "markdown",
   "id": "49188404",
   "metadata": {},
   "source": [
    "### Let's get through different frequencies  "
   ]
  },
  {
   "cell_type": "code",
   "execution_count": null,
   "id": "385dd9fe",
   "metadata": {},
   "outputs": [],
   "source": []
  },
  {
   "cell_type": "markdown",
   "id": "4d021dff",
   "metadata": {},
   "source": [
    "### Business Day\n",
    "1.Let's print all the working days present between 2 time intervals."
   ]
  },
  {
   "cell_type": "code",
   "execution_count": 36,
   "id": "9be0da19",
   "metadata": {},
   "outputs": [
    {
     "data": {
      "text/plain": [
       "DatetimeIndex(['2020-01-01', '2020-01-02', '2020-01-03', '2020-01-06',\n",
       "               '2020-01-07', '2020-01-08', '2020-01-09', '2020-01-10'],\n",
       "              dtype='datetime64[ns]', freq='B')"
      ]
     },
     "execution_count": 36,
     "metadata": {},
     "output_type": "execute_result"
    }
   ],
   "source": [
    "pd.date_range(start = '2020-01-01 ', end ='2020-01-10 ',freq = 'B')"
   ]
  },
  {
   "cell_type": "code",
   "execution_count": 37,
   "id": "c572e16f",
   "metadata": {},
   "outputs": [],
   "source": [
    "#From the above we can see that 2020-01-04 , 2020-01-05 are not printed because of weekends[holidays]."
   ]
  },
  {
   "cell_type": "markdown",
   "id": "7c1cfd6f",
   "metadata": {},
   "source": [
    "### Week Day "
   ]
  },
  {
   "cell_type": "code",
   "execution_count": 38,
   "id": "477e1ff8",
   "metadata": {},
   "outputs": [
    {
     "data": {
      "text/plain": [
       "DatetimeIndex(['2020-01-05', '2020-01-12', '2020-01-19', '2020-01-26',\n",
       "               '2020-02-02', '2020-02-09', '2020-02-16', '2020-02-23',\n",
       "               '2020-03-01', '2020-03-08'],\n",
       "              dtype='datetime64[ns]', freq='W-SUN')"
      ]
     },
     "execution_count": 38,
     "metadata": {},
     "output_type": "execute_result"
    }
   ],
   "source": [
    "pd.date_range(start = '2020-01-01 ', end ='2020-03-10 ',freq = 'W')"
   ]
  },
  {
   "cell_type": "code",
   "execution_count": 39,
   "id": "0c70915f",
   "metadata": {},
   "outputs": [],
   "source": [
    "#Here it has cutted date ranges into weeks "
   ]
  },
  {
   "cell_type": "markdown",
   "id": "602d753a",
   "metadata": {},
   "source": [
    "### Months "
   ]
  },
  {
   "cell_type": "code",
   "execution_count": 40,
   "id": "1166b516",
   "metadata": {},
   "outputs": [
    {
     "data": {
      "text/plain": [
       "DatetimeIndex(['2020-01-31', '2020-02-29', '2020-03-31'], dtype='datetime64[ns]', freq='M')"
      ]
     },
     "execution_count": 40,
     "metadata": {},
     "output_type": "execute_result"
    }
   ],
   "source": [
    "pd.date_range(start = '2020-01-01 ', end ='2020-04-10 ',freq = 'M')"
   ]
  },
  {
   "cell_type": "code",
   "execution_count": 41,
   "id": "96b9be82",
   "metadata": {},
   "outputs": [],
   "source": [
    "#Here it has cutted date ranges into months"
   ]
  },
  {
   "cell_type": "markdown",
   "id": "c73e3854",
   "metadata": {},
   "source": [
    "### Quarters "
   ]
  },
  {
   "cell_type": "code",
   "execution_count": 42,
   "id": "d4b0fe45",
   "metadata": {},
   "outputs": [
    {
     "data": {
      "text/plain": [
       "DatetimeIndex(['2020-03-31', '2020-06-30', '2020-09-30'], dtype='datetime64[ns]', freq='Q-DEC')"
      ]
     },
     "execution_count": 42,
     "metadata": {},
     "output_type": "execute_result"
    }
   ],
   "source": [
    "pd.date_range(start = '2020-01-01 ', end ='2020-12-01 ',freq = 'Q')"
   ]
  },
  {
   "cell_type": "code",
   "execution_count": null,
   "id": "09f048a0",
   "metadata": {},
   "outputs": [],
   "source": []
  }
 ],
 "metadata": {
  "kernelspec": {
   "display_name": "Python 3",
   "language": "python",
   "name": "python3"
  },
  "language_info": {
   "codemirror_mode": {
    "name": "ipython",
    "version": 3
   },
   "file_extension": ".py",
   "mimetype": "text/x-python",
   "name": "python",
   "nbconvert_exporter": "python",
   "pygments_lexer": "ipython3",
   "version": "3.8.8"
  }
 },
 "nbformat": 4,
 "nbformat_minor": 5
}
