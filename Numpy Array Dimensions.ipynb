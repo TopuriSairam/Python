{
 "cells": [
  {
   "cell_type": "markdown",
   "id": "d761601b",
   "metadata": {},
   "source": [
    "# Numpy Array Dimensions"
   ]
  },
  {
   "cell_type": "markdown",
   "id": "cc8f62bd",
   "metadata": {},
   "source": [
    "### 1.1-Dimensional Array"
   ]
  },
  {
   "cell_type": "markdown",
   "id": "af5070b0",
   "metadata": {},
   "source": [
    "### 2.2-Dimensional Array "
   ]
  },
  {
   "cell_type": "markdown",
   "id": "e24a3366",
   "metadata": {},
   "source": [
    "### 3.3-Dimensional Array"
   ]
  },
  {
   "cell_type": "code",
   "execution_count": null,
   "id": "279e46da",
   "metadata": {},
   "outputs": [],
   "source": []
  },
  {
   "cell_type": "code",
   "execution_count": 1,
   "id": "1786cdfe",
   "metadata": {},
   "outputs": [],
   "source": [
    "#importing Numpy Library\n",
    "import numpy as np"
   ]
  },
  {
   "cell_type": "code",
   "execution_count": 2,
   "id": "bd38e1e8",
   "metadata": {},
   "outputs": [
    {
     "name": "stdout",
     "output_type": "stream",
     "text": [
      "6\n"
     ]
    }
   ],
   "source": [
    "#creating a scalar array\n",
    "s = np.array(6)\n",
    "print(s)"
   ]
  },
  {
   "cell_type": "code",
   "execution_count": 3,
   "id": "3339c077",
   "metadata": {},
   "outputs": [
    {
     "name": "stdout",
     "output_type": "stream",
     "text": [
      "int32\n"
     ]
    }
   ],
   "source": [
    "#checking data type\n",
    "print(s.dtype)"
   ]
  },
  {
   "cell_type": "code",
   "execution_count": 4,
   "id": "71dd6e30",
   "metadata": {},
   "outputs": [
    {
     "name": "stdout",
     "output_type": "stream",
     "text": [
      "0\n"
     ]
    }
   ],
   "source": [
    "#check the dimension\n",
    "print(np.ndim(s))"
   ]
  },
  {
   "cell_type": "markdown",
   "id": "6395ed39",
   "metadata": {},
   "source": [
    "### Creating one dimensional array"
   ]
  },
  {
   "cell_type": "code",
   "execution_count": 5,
   "id": "6717c8d5",
   "metadata": {},
   "outputs": [
    {
     "name": "stdout",
     "output_type": "stream",
     "text": [
      "[1 2 3 4 5]\n"
     ]
    }
   ],
   "source": [
    "a = [1,2,3,4,5]\n",
    "A =np.array(a)\n",
    "print(A)"
   ]
  },
  {
   "cell_type": "code",
   "execution_count": 6,
   "id": "c6979f9c",
   "metadata": {},
   "outputs": [
    {
     "name": "stdout",
     "output_type": "stream",
     "text": [
      "int32\n"
     ]
    }
   ],
   "source": [
    "#checking data type\n",
    "print(A.dtype)"
   ]
  },
  {
   "cell_type": "code",
   "execution_count": 7,
   "id": "d0b796e8",
   "metadata": {},
   "outputs": [
    {
     "name": "stdout",
     "output_type": "stream",
     "text": [
      "1\n"
     ]
    }
   ],
   "source": [
    "#check the dimension\n",
    "print(np.ndim(A))"
   ]
  },
  {
   "cell_type": "markdown",
   "id": "2bb83a4f",
   "metadata": {},
   "source": [
    "### Creating two dimensional array"
   ]
  },
  {
   "cell_type": "code",
   "execution_count": 8,
   "id": "223ebce0",
   "metadata": {},
   "outputs": [
    {
     "name": "stdout",
     "output_type": "stream",
     "text": [
      "[[1 2 3]\n",
      " [4 5 6]\n",
      " [7 8 9]]\n"
     ]
    }
   ],
   "source": [
    "b = [[1,2,3],[4,5,6],[7,8,9]]\n",
    "B =np.array(b)\n",
    "print(B)"
   ]
  },
  {
   "cell_type": "code",
   "execution_count": 9,
   "id": "52ae5a43",
   "metadata": {},
   "outputs": [
    {
     "name": "stdout",
     "output_type": "stream",
     "text": [
      "2\n"
     ]
    }
   ],
   "source": [
    "#check the dimension\n",
    "print(np.ndim(B))"
   ]
  },
  {
   "cell_type": "markdown",
   "id": "d322cfcb",
   "metadata": {},
   "source": [
    "### Creating three dimensional array"
   ]
  },
  {
   "cell_type": "code",
   "execution_count": 10,
   "id": "2f0708db",
   "metadata": {},
   "outputs": [
    {
     "name": "stdout",
     "output_type": "stream",
     "text": [
      "[[[1 2]]\n",
      "\n",
      " [[3 4]]\n",
      "\n",
      " [[4 5]]\n",
      "\n",
      " [[5 6]]]\n"
     ]
    }
   ],
   "source": [
    "c = [[[1,2]],[[3,4]],[[4,5]],[[5,6]]]\n",
    "C =np.array(c)\n",
    "print(C)"
   ]
  },
  {
   "cell_type": "code",
   "execution_count": 11,
   "id": "516fd142",
   "metadata": {},
   "outputs": [
    {
     "name": "stdout",
     "output_type": "stream",
     "text": [
      "2\n"
     ]
    }
   ],
   "source": [
    "#check the dimension\n",
    "print(np.ndim(B))"
   ]
  },
  {
   "cell_type": "code",
   "execution_count": 13,
   "id": "b41b0b7c",
   "metadata": {},
   "outputs": [
    {
     "name": "stdout",
     "output_type": "stream",
     "text": [
      "1\n",
      "2\n",
      "3\n"
     ]
    }
   ],
   "source": [
    "print(A.ndim)\n",
    "print(B.ndim)\n",
    "print(C.ndim)"
   ]
  },
  {
   "cell_type": "code",
   "execution_count": null,
   "id": "d8aaa1c7",
   "metadata": {},
   "outputs": [],
   "source": []
  }
 ],
 "metadata": {
  "kernelspec": {
   "display_name": "Python 3",
   "language": "python",
   "name": "python3"
  },
  "language_info": {
   "codemirror_mode": {
    "name": "ipython",
    "version": 3
   },
   "file_extension": ".py",
   "mimetype": "text/x-python",
   "name": "python",
   "nbconvert_exporter": "python",
   "pygments_lexer": "ipython3",
   "version": "3.8.8"
  }
 },
 "nbformat": 4,
 "nbformat_minor": 5
}
